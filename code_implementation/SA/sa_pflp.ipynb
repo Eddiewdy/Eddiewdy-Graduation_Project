{
 "cells": [
  {
   "cell_type": "code",
   "execution_count": 25,
   "metadata": {},
   "outputs": [],
   "source": [
    "#进行数学运算\n",
    "import math\n",
    "import numpy as np\n",
    "#进行随机选择\n",
    "import random\n",
    "import matplotlib.pyplot as plt"
   ]
  },
  {
   "cell_type": "code",
   "execution_count": 26,
   "metadata": {},
   "outputs": [],
   "source": [
    "point=[]\n",
    "layout = []\n",
    "filename = \"./readytorun.txt\""
   ]
  },
  {
   "cell_type": "code",
   "execution_count": 27,
   "metadata": {},
   "outputs": [],
   "source": [
    "def prepare_data(select):\n",
    "    point.clear()\n",
    "    layout.clear()\n",
    "    num = 1\n",
    "    for line in open(filename):\n",
    "        index, x, y = line.strip().split(\",\")\n",
    "        if int(index) % select == 0:\n",
    "            point.extend([(num,(float(x),float(y)))])\n",
    "            num = num + 1\n",
    "    for i in range(len(point)):\n",
    "        layout.append([i+1, random.randint(1,4), 0])\n",
    "    print(layout[:])\n",
    "    print(point[:])"
   ]
  },
  {
   "cell_type": "code",
   "execution_count": 28,
   "metadata": {},
   "outputs": [
    {
     "name": "stdout",
     "output_type": "stream",
     "text": [
      "[[1, 1, 0], [2, 3, 0], [3, 2, 0], [4, 2, 0], [5, 4, 0], [6, 1, 0], [7, 4, 0], [8, 2, 0], [9, 2, 0], [10, 3, 0], [11, 1, 0], [12, 1, 0], [13, 2, 0], [14, 2, 0], [15, 4, 0], [16, 4, 0], [17, 1, 0], [18, 2, 0], [19, 2, 0], [20, 1, 0], [21, 1, 0], [22, 2, 0], [23, 3, 0], [24, 1, 0], [25, 3, 0], [26, 1, 0], [27, 4, 0], [28, 1, 0], [29, 3, 0], [30, 2, 0], [31, 3, 0], [32, 4, 0], [33, 3, 0], [34, 3, 0], [35, 4, 0], [36, 2, 0], [37, 3, 0], [38, 2, 0], [39, 2, 0], [40, 4, 0], [41, 3, 0], [42, 4, 0], [43, 3, 0], [44, 3, 0], [45, 2, 0], [46, 4, 0], [47, 3, 0], [48, 4, 0], [49, 2, 0], [50, 2, 0], [51, 3, 0], [52, 1, 0], [53, 4, 0], [54, 2, 0], [55, 1, 0], [56, 3, 0], [57, 4, 0], [58, 1, 0], [59, 1, 0], [60, 4, 0], [61, 1, 0], [62, 4, 0], [63, 1, 0], [64, 3, 0], [65, 1, 0], [66, 3, 0], [67, 4, 0], [68, 1, 0], [69, 1, 0], [70, 2, 0], [71, 1, 0], [72, 4, 0], [73, 1, 0], [74, 2, 0], [75, 3, 0], [76, 2, 0], [77, 1, 0], [78, 2, 0], [79, 4, 0], [80, 1, 0], [81, 1, 0], [82, 2, 0], [83, 3, 0], [84, 3, 0], [85, 1, 0], [86, 1, 0], [87, 2, 0], [88, 1, 0], [89, 1, 0], [90, 3, 0], [91, 2, 0], [92, 2, 0], [93, 2, 0], [94, 4, 0], [95, 4, 0], [96, 2, 0], [97, 2, 0], [98, 4, 0], [99, 4, 0], [100, 2, 0], [101, 1, 0], [102, 2, 0], [103, 1, 0], [104, 1, 0], [105, 4, 0], [106, 4, 0], [107, 4, 0], [108, 4, 0], [109, 4, 0], [110, 3, 0], [111, 4, 0], [112, 2, 0], [113, 2, 0], [114, 3, 0], [115, 3, 0], [116, 3, 0], [117, 2, 0], [118, 1, 0], [119, 2, 0], [120, 4, 0], [121, 3, 0], [122, 2, 0], [123, 3, 0], [124, 2, 0], [125, 4, 0], [126, 1, 0], [127, 4, 0], [128, 4, 0]]\n",
      "[(1, (4110.0, 8065.0)), (2, (4288.0, 9739.0)), (3, (4660.0, 12051.0)), (4, (4227.0, 7180.0)), (5, (4363.0, 8977.0)), (6, (3610.0, 8025.0)), (7, (4988.0, 9715.0)), (8, (3919.0, 7816.0)), (9, (3424.0, 7792.0)), (10, (3975.0, 7555.0)), (11, (4815.0, 10362.0)), (12, (4125.0, 7700.0)), (13, (3768.0, 8228.0)), (14, (3390.0, 9849.0)), (15, (3769.0, 9734.0)), (16, (4007.0, 8072.0)), (17, (2672.0, 8005.0)), (18, (4742.0, 12032.0)), (19, (4142.0, 12239.0)), (20, (3122.0, 8235.0)), (21, (4496.0, 8964.0)), (22, (4236.0, 8783.0)), (23, (4490.0, 9711.0)), (24, (4398.0, 7592.0)), (25, (4250.0, 9234.0)), (26, (4155.0, 7305.0)), (27, (3889.0, 7703.0)), (28, (4185.0, 7914.0)), (29, (4607.0, 11833.0)), (30, (3155.0, 9714.0)), (31, (3868.0, 8753.0)), (32, (2881.0, 9701.0)), (33, (3235.0, 9088.0)), (34, (4927.0, 12312.0)), (35, (4692.0, 9801.0)), (36, (3083.0, 8328.0)), (37, (4311.0, 7523.0)), (38, (3990.0, 7973.0)), (39, (3235.0, 9530.0)), (40, (4256.0, 11447.0)), (41, (3321.0, 8757.0)), (42, (3426.0, 8871.0)), (43, (3616.0, 9591.0)), (44, (3222.0, 11097.0)), (45, (3717.0, 10451.0)), (46, (4023.0, 7477.0)), (47, (4476.0, 8563.0)), (48, (4365.0, 7938.0)), (49, (3905.0, 9567.0)), (50, (4165.0, 8354.0)), (51, (3343.0, 9405.0)), (52, (3947.0, 8741.0)), (53, (2795.0, 8245.0)), (54, (3045.0, 8428.0)), (55, (4724.0, 12243.0)), (56, (4305.0, 7615.0)), (57, (3260.0, 8234.0)), (58, (3392.0, 8035.0)), (59, (4099.0, 7519.0)), (60, (3796.0, 12129.0)), (61, (4452.0, 8957.0)), (62, (4036.0, 8062.0)), (63, (4062.0, 10322.0)), (64, (3815.0, 7907.0)), (65, (3992.0, 8381.0)), (66, (3722.0, 9329.0)), (67, (4210.0, 7259.0)), (68, (3980.0, 8965.0)), (69, (4767.0, 11741.0)), (70, (4168.0, 8625.0)), (71, (4354.0, 9673.0)), (72, (4249.0, 9639.0)), (73, (3251.0, 9375.0)), (74, (3364.0, 9661.0)), (75, (4480.0, 10696.0)), (76, (3523.0, 9668.0)), (77, (3242.0, 8702.0)), (78, (3871.0, 9323.0)), (79, (4760.0, 12233.0)), (80, (4141.0, 7567.0)), (81, (4187.0, 10366.0)), (82, (4282.0, 7395.0)), (83, (3208.0, 8109.0)), (84, (4649.0, 8435.0)), (85, (2734.0, 8253.0)), (86, (3844.0, 12272.0)), (87, (3568.0, 10595.0)), (88, (3442.0, 11970.0)), (89, (3376.0, 11787.0)), (90, (3734.0, 12188.0)), (91, (3778.0, 12242.0)), (92, (4145.0, 8271.0)), (93, (3271.0, 11715.0)), (94, (3411.0, 11731.0)), (95, (2942.0, 9850.0)), (96, (3146.0, 10044.0)), (97, (4076.0, 11188.0)), (98, (3837.0, 7560.0)), (99, (3667.0, 12165.0)), (100, (3884.0, 9761.0)), (101, (3853.0, 10600.0)), (102, (4494.0, 12303.0)), (103, (4495.0, 9310.0)), (104, (3862.0, 9019.0)), (105, (3977.0, 9484.0)), (106, (4210.0, 8648.0)), (107, (4442.0, 7202.0)), (108, (4557.0, 9417.0)), (109, (2989.0, 8132.0)), (110, (4343.0, 8394.0)), (111, (3859.0, 12149.0)), (112, (4361.0, 7297.0)), (113, (3340.0, 10453.0)), (114, (3594.0, 7780.0)), (115, (4159.0, 10923.0)), (116, (4227.0, 8910.0)), (117, (4316.0, 7761.0)), (118, (4402.0, 9246.0)), (119, (3727.0, 7994.0)), (120, (3754.0, 7745.0)), (121, (3983.0, 8489.0)), (122, (3877.0, 11209.0)), (123, (4564.0, 8942.0)), (124, (3952.0, 11981.0)), (125, (5042.0, 10465.0)), (126, (4018.0, 12224.0)), (127, (4033.0, 7593.0)), (128, (4116.0, 8124.0))]\n"
     ]
    }
   ],
   "source": [
    "prepare_data(1)"
   ]
  },
  {
   "cell_type": "code",
   "execution_count": 29,
   "metadata": {},
   "outputs": [
    {
     "name": "stdout",
     "output_type": "stream",
     "text": [
      "[(4188.0, 9739.0), (4288.0, 9739.0), (4288.0, 9789.0), (4188.0, 9789.0)]\n"
     ]
    }
   ],
   "source": [
    "gapx, gapy = 100, 50\n",
    "def getPos(i,m):\n",
    "    pointx = point[i][1][0]\n",
    "    pointy = point[i][1][1]\n",
    "    # print(pointx, pointy)\n",
    "    if m==1:\n",
    "        return [(pointx,pointy),(pointx+gapx,pointy),(pointx+gapx,pointy+gapy),(pointx,pointy+gapy)]\n",
    "    elif m==2:\n",
    "        return [(pointx-gapx,pointy),(pointx,pointy),(pointx,pointy+gapy),(pointx-gapx,pointy+gapy)]\n",
    "    elif m==3:\n",
    "        return [(pointx-gapx,pointy-gapy),(pointx,pointy-gapy),(pointx,pointy),(pointx-gapx,pointy)]\n",
    "    else:\n",
    "        return [(pointx, pointy-gapy),(pointx+gapx,pointy-gapy),(pointx+gapx,pointy),(pointx,pointy)]\n",
    "    \n",
    "print(getPos(1,2))"
   ]
  },
  {
   "cell_type": "code",
   "execution_count": 30,
   "metadata": {},
   "outputs": [],
   "source": [
    "def inner(point, rec):\n",
    "    if point[0] > rec[0][0] and point[1] > rec[0][1] and point[0] < rec[1][0] and point[1] > rec[1][1] and point[0] < rec[2][0] and point[1] < rec[2][1] and point[0] > rec[3][0] and point[1] < rec[3][1]:\n",
    "        return True\n",
    "    return False"
   ]
  },
  {
   "cell_type": "code",
   "execution_count": 31,
   "metadata": {},
   "outputs": [],
   "source": [
    "def conflict(vect,i,j):\n",
    "    \"\"\"\n",
    "    判断冲突\n",
    "    \"\"\"\n",
    "    m = vect[i][1]\n",
    "    n = vect[j][1]\n",
    "    reci = getPos(i,m)\n",
    "    recj = getPos(j,n)\n",
    "    for i in range(len(reci)):\n",
    "        if inner(reci[i], recj):\n",
    "            return True\n",
    "    return False\n"
   ]
  },
  {
   "cell_type": "code",
   "execution_count": 32,
   "metadata": {},
   "outputs": [
    {
     "data": {
      "text/plain": [
       "36"
      ]
     },
     "execution_count": 32,
     "metadata": {},
     "output_type": "execute_result"
    }
   ],
   "source": [
    "def cost_function(vect, x=3, y=0.1):\n",
    "    \"\"\"\n",
    "    计算每个点冲突\n",
    "    \"\"\"\n",
    "    sum = 0\n",
    "    res = 0\n",
    "    for i in range(len(point)):\n",
    "        temp = 0\n",
    "        res = res + vect[i][1]*y\n",
    "        for j in range(len(point)):\n",
    "            if i != j:\n",
    "                if(conflict(vect,i,j)):\n",
    "                    temp = temp + 1\n",
    "        vect[i][2] = temp\n",
    "        sum = sum + temp\n",
    "    # print(\"conflict:\"+str(sum))\n",
    "    sum = x*sum+res\n",
    "    return sum\n",
    "cost_function(layout, 1, 0)\n",
    "# print(costroad(layout))"
   ]
  },
  {
   "cell_type": "code",
   "execution_count": 33,
   "metadata": {},
   "outputs": [],
   "source": [
    "def cost_dif(new_set, old_set, pointx):\n",
    "    conflict_sum = 0\n",
    "    for i in range(len(point)):\n",
    "        a = conflict(new_set, i, pointx-1)\n",
    "        b = conflict(old_set, i, pointx-1)\n",
    "        # print(i,pointx,a,b)\n",
    "        if a is True and b is False:\n",
    "            conflict_sum = conflict_sum + 1\n",
    "        elif a is False and b is True:\n",
    "            conflict_sum = conflict_sum - 1\n",
    "    # print(new_set[pointx-1][1], old_set[pointx-1][1])\n",
    "    conflict_sum = conflict_sum * 3 - new_set[pointx-1][1]*0.1 + old_set[pointx-1][1]*0.1\n",
    "    return conflict_sum\n",
    "            "
   ]
  },
  {
   "cell_type": "code",
   "execution_count": 34,
   "metadata": {},
   "outputs": [
    {
     "name": "stdout",
     "output_type": "stream",
     "text": [
      "-0.10000000000000003\n"
     ]
    }
   ],
   "source": [
    "import copy\n",
    "def generate_new_set(old_set):\n",
    "    sel = random.sample(old_set,1)\n",
    "    while True:\n",
    "        nextPos = random.randint(1,4)\n",
    "        if nextPos != sel[0][1]:\n",
    "            break\n",
    "    m = [sel[0][0],sel[0][1],nextPos]\n",
    "    new_set = copy.deepcopy(old_set)\n",
    "    new_set[sel[0][0]-1][1] = m[2]\n",
    "    diff = cost_dif(new_set, old_set, m[0])\n",
    "    # print(old_set)\n",
    "    return (new_set,m,diff)\n",
    "a,b,c = generate_new_set(layout)\n",
    "print(c)"
   ]
  },
  {
   "cell_type": "code",
   "execution_count": 35,
   "metadata": {},
   "outputs": [],
   "source": [
    "import matplotlib.pyplot as plt\n",
    "def plot(layout, name):\n",
    "        def create_rect(index, width, height):\n",
    "                pointx = point[i][1][0]\n",
    "                pointy = point[i][1][1]\n",
    "                m = layout[i][1]\n",
    "                if m==1:\n",
    "                        x,y = pointx,pointy\n",
    "                elif m==2:\n",
    "                        x, y = pointx-width,pointy\n",
    "                elif m==3:\n",
    "                        x, y = pointx-width,pointy-height\n",
    "                else:\n",
    "                        x, y = pointx, pointy-height\n",
    "                rect=plt.Rectangle(\n",
    "                        (x, y),  # (x,y)矩形左下角\n",
    "                        width,  # width长\n",
    "                        height,  # height宽\n",
    "                        # color='maroon', \n",
    "                        fill = False)\n",
    "                return rect\n",
    "        fig1 = plt.figure(figsize=(8,10))\n",
    "        plt.axis('off')\n",
    "        ax1 = fig1.add_subplot(111)\n",
    "\n",
    "        for i in range(len(point)):\n",
    "                ax1.add_patch(create_rect(i, gapx, gapy))\n",
    "        plt.xlim(2600,5100)\n",
    "        plt.ylim(7100,12412)\n",
    "        plt.savefig(\"./result/resultImg-{}.svg\".format(name), format=\"svg\")\n",
    "        plt.show()\n",
    "# plot()\n",
    "# plt.savefig('scatter.eps',dpi=600,format='eps')"
   ]
  },
  {
   "cell_type": "code",
   "execution_count": 36,
   "metadata": {},
   "outputs": [],
   "source": [
    "def sasearch(origin_times, init_temperature, min_temperature, cooling_rate, iterates, namefortest):\n",
    "    # init T\n",
    "    T = init_temperature\n",
    "    no_cnt = 0\n",
    "    layout = []\n",
    "    result_layout = []\n",
    "    result_record = []\n",
    "    for t1 in range(origin_times):\n",
    "        layout.clear()\n",
    "        for i in range(len(point)):\n",
    "            layout.append([i+1, random.randint(1,4), 0])\n",
    "        print(\"initial state:\")\n",
    "        cost = cost_function(layout)\n",
    "        print(cost)\n",
    "        nameprefix = str(namefortest) + str(cost)\n",
    "        plot(layout=layout,name=nameprefix)\n",
    "        # plot(layout=layout)\n",
    "        # print(cost_function(layout))\n",
    "        while T > min_temperature:\n",
    "            old_cost = cost_function(layout)\n",
    "            result_record.append(old_cost)\n",
    "            for i in range(iterates):\n",
    "                # old_cost = cost_function(layout)\n",
    "                # result_record.append(old_cost)\n",
    "                result_layout.append(layout)\n",
    "                new_set, m, diff = generate_new_set(old_set=layout)\n",
    "                # print(\"diff:\" + str(diff))\n",
    "                # diff = new_cost - old_cost\n",
    "                if diff < 0:\n",
    "                    # 重新计数\n",
    "                    no_cnt = 0\n",
    "                    # 采纳新解\n",
    "                    layout = new_set[:]\n",
    "                else:\n",
    "                    no_cnt = no_cnt + 1\n",
    "                    # 新解更坏，这时候以一定几率踩纳\n",
    "                    # np.exp(-(valuenew-valuecurrent)/t)\n",
    "                    P = np.exp(-(diff)/T)\n",
    "                    # print(\"P:\"+str(P))\n",
    "                    # 如果随机数在概率之内，则采纳\n",
    "                    if random.random() < P:\n",
    "                        layout = new_set[:]\n",
    "            # 退火降温\n",
    "            T = T * cooling_rate\n",
    "            print(T)\n",
    "            # 超过5000次没有被采纳，则结束迭代\n",
    "            if no_cnt > 5000:\n",
    "                break\n",
    "    return (result_record, result_layout, layout)"
   ]
  },
  {
   "cell_type": "code",
   "execution_count": 37,
   "metadata": {},
   "outputs": [
    {
     "name": "stdout",
     "output_type": "stream",
     "text": [
      "[[1, 1, 0], [2, 3, 0], [3, 4, 0], [4, 1, 0], [5, 3, 0], [6, 3, 0], [7, 1, 0], [8, 3, 0], [9, 1, 0], [10, 1, 0], [11, 3, 0], [12, 4, 0], [13, 3, 0], [14, 1, 0], [15, 4, 0], [16, 2, 0], [17, 3, 0], [18, 4, 0], [19, 3, 0], [20, 4, 0], [21, 4, 0], [22, 1, 0], [23, 2, 0], [24, 2, 0], [25, 2, 0], [26, 2, 0], [27, 3, 0], [28, 4, 0], [29, 1, 0], [30, 4, 0], [31, 2, 0], [32, 2, 0], [33, 4, 0], [34, 4, 0], [35, 2, 0], [36, 4, 0], [37, 2, 0], [38, 3, 0], [39, 3, 0], [40, 3, 0], [41, 2, 0], [42, 1, 0], [43, 2, 0], [44, 4, 0], [45, 3, 0], [46, 1, 0], [47, 1, 0], [48, 4, 0], [49, 2, 0], [50, 2, 0], [51, 1, 0], [52, 4, 0], [53, 4, 0], [54, 1, 0], [55, 4, 0], [56, 3, 0], [57, 2, 0], [58, 2, 0], [59, 4, 0], [60, 1, 0], [61, 4, 0], [62, 3, 0], [63, 4, 0], [64, 1, 0], [65, 2, 0], [66, 4, 0], [67, 1, 0], [68, 2, 0], [69, 2, 0], [70, 3, 0], [71, 4, 0], [72, 2, 0], [73, 4, 0], [74, 3, 0], [75, 4, 0], [76, 2, 0], [77, 2, 0], [78, 2, 0], [79, 2, 0], [80, 2, 0], [81, 3, 0], [82, 4, 0], [83, 2, 0], [84, 2, 0], [85, 1, 0], [86, 2, 0], [87, 1, 0], [88, 4, 0], [89, 2, 0], [90, 3, 0], [91, 4, 0], [92, 4, 0], [93, 1, 0], [94, 2, 0], [95, 2, 0], [96, 4, 0], [97, 4, 0], [98, 2, 0], [99, 4, 0], [100, 4, 0], [101, 2, 0], [102, 4, 0], [103, 1, 0], [104, 4, 0], [105, 3, 0], [106, 3, 0], [107, 1, 0], [108, 3, 0], [109, 1, 0], [110, 4, 0], [111, 1, 0], [112, 1, 0], [113, 4, 0], [114, 2, 0], [115, 1, 0], [116, 3, 0], [117, 1, 0], [118, 3, 0], [119, 2, 0], [120, 3, 0], [121, 4, 0], [122, 1, 0], [123, 4, 0], [124, 4, 0], [125, 3, 0], [126, 2, 0], [127, 2, 0], [128, 3, 0]]\n",
      "[(1, (4110.0, 8065.0)), (2, (4288.0, 9739.0)), (3, (4660.0, 12051.0)), (4, (4227.0, 7180.0)), (5, (4363.0, 8977.0)), (6, (3610.0, 8025.0)), (7, (4988.0, 9715.0)), (8, (3919.0, 7816.0)), (9, (3424.0, 7792.0)), (10, (3975.0, 7555.0)), (11, (4815.0, 10362.0)), (12, (4125.0, 7700.0)), (13, (3768.0, 8228.0)), (14, (3390.0, 9849.0)), (15, (3769.0, 9734.0)), (16, (4007.0, 8072.0)), (17, (2672.0, 8005.0)), (18, (4742.0, 12032.0)), (19, (4142.0, 12239.0)), (20, (3122.0, 8235.0)), (21, (4496.0, 8964.0)), (22, (4236.0, 8783.0)), (23, (4490.0, 9711.0)), (24, (4398.0, 7592.0)), (25, (4250.0, 9234.0)), (26, (4155.0, 7305.0)), (27, (3889.0, 7703.0)), (28, (4185.0, 7914.0)), (29, (4607.0, 11833.0)), (30, (3155.0, 9714.0)), (31, (3868.0, 8753.0)), (32, (2881.0, 9701.0)), (33, (3235.0, 9088.0)), (34, (4927.0, 12312.0)), (35, (4692.0, 9801.0)), (36, (3083.0, 8328.0)), (37, (4311.0, 7523.0)), (38, (3990.0, 7973.0)), (39, (3235.0, 9530.0)), (40, (4256.0, 11447.0)), (41, (3321.0, 8757.0)), (42, (3426.0, 8871.0)), (43, (3616.0, 9591.0)), (44, (3222.0, 11097.0)), (45, (3717.0, 10451.0)), (46, (4023.0, 7477.0)), (47, (4476.0, 8563.0)), (48, (4365.0, 7938.0)), (49, (3905.0, 9567.0)), (50, (4165.0, 8354.0)), (51, (3343.0, 9405.0)), (52, (3947.0, 8741.0)), (53, (2795.0, 8245.0)), (54, (3045.0, 8428.0)), (55, (4724.0, 12243.0)), (56, (4305.0, 7615.0)), (57, (3260.0, 8234.0)), (58, (3392.0, 8035.0)), (59, (4099.0, 7519.0)), (60, (3796.0, 12129.0)), (61, (4452.0, 8957.0)), (62, (4036.0, 8062.0)), (63, (4062.0, 10322.0)), (64, (3815.0, 7907.0)), (65, (3992.0, 8381.0)), (66, (3722.0, 9329.0)), (67, (4210.0, 7259.0)), (68, (3980.0, 8965.0)), (69, (4767.0, 11741.0)), (70, (4168.0, 8625.0)), (71, (4354.0, 9673.0)), (72, (4249.0, 9639.0)), (73, (3251.0, 9375.0)), (74, (3364.0, 9661.0)), (75, (4480.0, 10696.0)), (76, (3523.0, 9668.0)), (77, (3242.0, 8702.0)), (78, (3871.0, 9323.0)), (79, (4760.0, 12233.0)), (80, (4141.0, 7567.0)), (81, (4187.0, 10366.0)), (82, (4282.0, 7395.0)), (83, (3208.0, 8109.0)), (84, (4649.0, 8435.0)), (85, (2734.0, 8253.0)), (86, (3844.0, 12272.0)), (87, (3568.0, 10595.0)), (88, (3442.0, 11970.0)), (89, (3376.0, 11787.0)), (90, (3734.0, 12188.0)), (91, (3778.0, 12242.0)), (92, (4145.0, 8271.0)), (93, (3271.0, 11715.0)), (94, (3411.0, 11731.0)), (95, (2942.0, 9850.0)), (96, (3146.0, 10044.0)), (97, (4076.0, 11188.0)), (98, (3837.0, 7560.0)), (99, (3667.0, 12165.0)), (100, (3884.0, 9761.0)), (101, (3853.0, 10600.0)), (102, (4494.0, 12303.0)), (103, (4495.0, 9310.0)), (104, (3862.0, 9019.0)), (105, (3977.0, 9484.0)), (106, (4210.0, 8648.0)), (107, (4442.0, 7202.0)), (108, (4557.0, 9417.0)), (109, (2989.0, 8132.0)), (110, (4343.0, 8394.0)), (111, (3859.0, 12149.0)), (112, (4361.0, 7297.0)), (113, (3340.0, 10453.0)), (114, (3594.0, 7780.0)), (115, (4159.0, 10923.0)), (116, (4227.0, 8910.0)), (117, (4316.0, 7761.0)), (118, (4402.0, 9246.0)), (119, (3727.0, 7994.0)), (120, (3754.0, 7745.0)), (121, (3983.0, 8489.0)), (122, (3877.0, 11209.0)), (123, (4564.0, 8942.0)), (124, (3952.0, 11981.0)), (125, (5042.0, 10465.0)), (126, (4018.0, 12224.0)), (127, (4033.0, 7593.0)), (128, (4116.0, 8124.0))]\n",
      "initial state:\n",
      "165.89999999999998\n"
     ]
    },
    {
     "data": {
      "image/png": "[encoded data removed]",
      "text/plain": [
       "<Figure size 576x720 with 2 Axes>"
      ]
     },
     "metadata": {
      "needs_background": "light"
     },
     "output_type": "display_data"
    },
    {
     "name": "stdout",
     "output_type": "stream",
     "text": [
      "180.0\n",
      "162.0\n",
      "145.8\n",
      "131.22000000000003\n",
      "118.09800000000003\n",
      "106.28820000000003\n",
      "95.65938000000003\n",
      "86.09344200000002\n",
      "77.48409780000003\n",
      "69.73568802000003\n",
      "62.762119218000024\n",
      "56.485907296200025\n",
      "50.83731656658002\n",
      "45.75358490992202\n",
      "41.17822641892982\n",
      "37.06040377703684\n",
      "33.35436339933316\n",
      "30.018927059399843\n",
      "27.01703435345986\n",
      "24.315330918113872\n",
      "21.883797826302487\n",
      "19.695418043672237\n",
      "17.725876239305013\n",
      "15.953288615374511\n",
      "14.35795975383706\n",
      "12.922163778453355\n",
      "11.62994740060802\n",
      "10.466952660547218\n",
      "9.420257394492497\n",
      "8.478231655043247\n",
      "7.630408489538922\n",
      "6.86736764058503\n",
      "6.180630876526528\n",
      "5.562567788873875\n",
      "5.006311009986487\n",
      "4.5056799089878385\n",
      "4.055111918089055\n",
      "3.6496007262801493\n",
      "3.2846406536521346\n",
      "2.956176588286921\n",
      "2.660558929458229\n",
      "2.3945030365124063\n",
      "2.1550527328611655\n",
      "1.939547459575049\n",
      "1.7455927136175442\n",
      "1.57103344225579\n",
      "1.413930098030211\n",
      "1.2725370882271898\n",
      "1.1452833794044708\n",
      "1.0307550414640236\n",
      "0.9276795373176213\n",
      "0.8349115835858592\n",
      "0.7514204252272733\n",
      "0.676278382704546\n",
      "0.6086505444340914\n",
      "0.5477854899906822\n",
      "0.493006940991614\n",
      "0.44370624689245264\n",
      "0.3993356222032074\n",
      "0.35940205998288666\n",
      "0.323461853984598\n",
      "0.2911156685861382\n",
      "0.26200410172752436\n",
      "0.23580369155477193\n",
      "0.21222332239929476\n",
      "0.19100099015936528\n",
      "0.17190089114342877\n",
      "0.1547108020290859\n",
      "0.13923972182617733\n",
      "0.1253157496435596\n",
      "0.11278417467920364\n",
      "0.10150575721128327\n",
      "0.09135518149015495\n",
      "0.08221966334113946\n",
      "0.07399769700702552\n",
      "0.06659792730632297\n",
      "0.05993813457569067\n",
      "0.053944321118121606\n",
      "0.048549889006309445\n",
      "0.0436949001056785\n",
      "0.039325410095110654\n",
      "0.03539286908559959\n",
      "0.03185358217703963\n",
      "0.02866822395933567\n",
      "0.025801401563402104\n",
      "0.023221261407061895\n",
      "0.020899135266355704\n",
      "0.018809221739720133\n",
      "0.01692829956574812\n",
      "0.015235469609173307\n",
      "0.013711922648255976\n",
      "0.012340730383430379\n",
      "0.011106657345087341\n",
      "0.009995991610578608\n",
      "0.008996392449520748\n",
      "0.008096753204568673\n",
      "0.007287077884111806\n",
      "0.006558370095700625\n",
      "0.005902533086130563\n",
      "0.0053122797775175075\n",
      "48.59999999999991\n"
     ]
    },
    {
     "data": {
      "image/png": "[encoded data removed]",
      "text/plain": [
       "<Figure size 576x720 with 2 Axes>"
      ]
     },
     "metadata": {
      "needs_background": "light"
     },
     "output_type": "display_data"
    },
    {
     "data": {
      "image/png": "[encoded data removed]",
      "text/plain": [
       "<Figure size 432x288 with 1 Axes>"
      ]
     },
     "metadata": {
      "needs_background": "light"
     },
     "output_type": "display_data"
    }
   ],
   "source": [
    "# result_record, result_layout, layout = sasearch(origin_times=1,init_temperature=200, min_temperature=1e-3, cooling_rate=0.90, iterates=500)\n",
    "\n",
    "\n",
    "prepare_data(1)\n",
    "test1_name1 = \"200_500_128_random\"\n",
    "test1_name2 = \"200_500_128_result\"\n",
    "result_record, result_layout, layout = sasearch(origin_times=1,init_temperature=200, min_temperature=1e-3, cooling_rate=0.90, iterates=500, namefortest=test1_name1)\n",
    "# plt.plot(result_record)\n",
    "# plt.show()\n",
    "cc = cost_function(layout)\n",
    "print(cc)\n",
    "nameprefix = str(test1_name2) + str(cc)\n",
    "plot(layout=layout,name=nameprefix)\n",
    "plt.plot(result_record)\n",
    "plt.show()"
   ]
  },
  {
   "cell_type": "code",
   "execution_count": null,
   "metadata": {},
   "outputs": [
    {
     "name": "stdout",
     "output_type": "stream",
     "text": [
      "initial state:\n"
     ]
    },
    {
     "data": {
      "image/png": "[encoded data removed]",
      "text/plain": [
       "<Figure size 432x288 with 2 Axes>"
      ]
     },
     "metadata": {
      "needs_background": "light"
     },
     "output_type": "display_data"
    },
    {
     "name": "stdout",
     "output_type": "stream",
     "text": [
      "176.70000000000002\n",
      "4500.0\n",
      "4050.0\n",
      "3645.0\n",
      "3280.5\n",
      "2952.4500000000003\n",
      "2657.2050000000004\n",
      "2391.4845000000005\n",
      "2152.3360500000003\n",
      "1937.1024450000004\n",
      "1743.3922005000004\n",
      "1569.0529804500004\n",
      "1412.1476824050003\n",
      "1270.9329141645003\n",
      "1143.8396227480503\n",
      "1029.4556604732452\n",
      "926.5100944259207\n",
      "833.8590849833287\n",
      "750.4731764849959\n",
      "675.4258588364963\n",
      "607.8832729528467\n",
      "547.0949456575621\n",
      "492.3854510918059\n",
      "443.14690598262536\n",
      "398.8322153843628\n",
      "358.94899384592657\n",
      "323.05409446133393\n",
      "290.7486850152005\n",
      "261.6738165136805\n",
      "235.50643486231246\n",
      "211.9557913760812\n",
      "190.7602122384731\n",
      "171.68419101462578\n",
      "154.5157719131632\n",
      "139.0641947218469\n",
      "125.15777524966221\n",
      "112.64199772469598\n",
      "101.37779795222639\n",
      "91.24001815700375\n",
      "82.11601634130338\n",
      "73.90441470717305\n",
      "66.51397323645574\n",
      "59.862575912810165\n",
      "53.87631832152915\n",
      "48.488686489376235\n",
      "43.63981784043861\n",
      "39.27583605639475\n",
      "35.348252450755275\n",
      "31.813427205679748\n",
      "28.632084485111772\n",
      "25.768876036600595\n",
      "23.191988432940537\n",
      "20.872789589646484\n",
      "18.785510630681834\n",
      "16.90695956761365\n",
      "15.216263610852286\n",
      "13.694637249767057\n",
      "12.325173524790351\n",
      "11.092656172311317\n",
      "9.983390555080186\n",
      "8.985051499572167\n",
      "8.08654634961495\n",
      "7.277891714653456\n",
      "6.55010254318811\n",
      "5.895092288869299\n",
      "5.30558305998237\n",
      "4.775024753984133\n",
      "4.29752227858572\n",
      "3.867770050727148\n",
      "3.4809930456544333\n",
      "3.13289374108899\n",
      "2.8196043669800908\n",
      "2.5376439302820817\n",
      "2.2838795372538736\n",
      "2.0554915835284864\n",
      "1.8499424251756378\n",
      "1.664948182658074\n",
      "1.4984533643922666\n",
      "1.34860802795304\n",
      "1.213747225157736\n",
      "1.0923725026419624\n",
      "0.9831352523777662\n",
      "0.8848217271399896\n",
      "0.7963395544259907\n",
      "0.7167055989833916\n",
      "0.6450350390850524\n",
      "0.5805315351765472\n",
      "0.5224783816588925\n",
      "0.47023054349300325\n",
      "0.42320748914370293\n",
      "0.38088674022933267\n",
      "0.3427980662063994\n",
      "0.30851825958575946\n",
      "0.2776664336271835\n",
      "0.24989979026446518\n",
      "0.22490981123801868\n",
      "0.20241883011421682\n",
      "0.18217694710279514\n",
      "0.16395925239251563\n",
      "0.14756332715326406\n",
      "0.13280699443793767\n",
      "0.11952629499414391\n",
      "0.10757366549472952\n",
      "0.09681629894525658\n",
      "0.08713466905073092\n",
      "0.07842120214565783\n",
      "0.07057908193109205\n",
      "0.06352117373798286\n",
      "0.057169056364184574\n",
      "0.05145215072776612\n",
      "0.04630693565498951\n",
      "0.041676242089490556\n",
      "0.0375086178805415\n",
      "0.03375775609248735\n",
      "0.030381980483238615\n",
      "0.027343782434914754\n",
      "0.024609404191423278\n",
      "0.02214846377228095\n",
      "0.019933617395052856\n",
      "0.01794025565554757\n",
      "0.016146230089992813\n",
      "0.014531607080993532\n",
      "0.013078446372894178\n",
      "0.01177060173560476\n",
      "0.010593541562044284\n",
      "0.009534187405839856\n",
      "0.00858076866525587\n",
      "0.007722691798730284\n",
      "0.006950422618857256\n",
      "0.00625538035697153\n"
     ]
    },
    {
     "data": {
      "image/png": "[encoded data removed]",
      "text/plain": [
       "<Figure size 432x288 with 1 Axes>"
      ]
     },
     "metadata": {
      "needs_background": "light"
     },
     "output_type": "display_data"
    }
   ],
   "source": [
    "result_record, result_layout, layout = sasearch(origin_times=1,init_temperature=5000, min_temperature=1e-3, cooling_rate=0.90, iterates=500)\n",
    "plt.plot(result_record)\n",
    "plt.show()"
   ]
  },
  {
   "cell_type": "code",
   "execution_count": null,
   "metadata": {},
   "outputs": [
    {
     "data": {
      "image/png": "[encoded data removed]",
      "text/plain": [
       "<Figure size 432x288 with 2 Axes>"
      ]
     },
     "metadata": {
      "needs_background": "light"
     },
     "output_type": "display_data"
    }
   ],
   "source": [
    "plot(layout=layout)"
   ]
  },
  {
   "cell_type": "code",
   "execution_count": null,
   "metadata": {},
   "outputs": [],
   "source": []
  }
 ],
 "metadata": {
  "interpreter": {
   "hash": "dd5fd5476570203b64069e34cf9cc744d0f47bace7df899e39f7d4293fd5ef03"
  },
  "kernelspec": {
   "display_name": "Python 3.9.7 ('test')",
   "language": "python",
   "name": "python3"
  },
  "language_info": {
   "codemirror_mode": {
    "name": "ipython",
    "version": 3
   },
   "file_extension": ".py",
   "mimetype": "text/x-python",
   "name": "python",
   "nbconvert_exporter": "python",
   "pygments_lexer": "ipython3",
   "version": "3.10.2"
  },
  "orig_nbformat": 4
 },
 "nbformat": 4,
 "nbformat_minor": 2
}
