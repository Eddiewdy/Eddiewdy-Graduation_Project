{
 "cells": [
  {
   "cell_type": "code",
   "execution_count": 62,
   "metadata": {},
   "outputs": [],
   "source": [
    "import random\n",
    "\"\"\"\n",
    "point[index, (x,y)]\n",
    "layout[index, place]\n",
    "\"\"\"\n",
    "point=[]\n",
    "layout=[]\n",
    "filename = \"./readytorun.txt\"\n",
    "# filename = \"./DenseMap/DenseMapReadyToRun/DenseMap_0250_01.txt\""
   ]
  },
  {
   "cell_type": "code",
   "execution_count": 63,
   "metadata": {},
   "outputs": [],
   "source": [
    "def prepare_data(select):\n",
    "    point.clear()\n",
    "    layout.clear()\n",
    "    num = 1\n",
    "    for line in open(filename):\n",
    "        index, x, y = line.strip().split(\",\")\n",
    "        if int(index) % select == 0:\n",
    "            point.extend([(num,(float(x),float(y)))])\n",
    "            num = num + 1\n",
    "    for i in range(len(point)):\n",
    "        layout.append([i+1, random.randint(1,4), 0])\n",
    "    # print(layout[:])\n",
    "    # print(point[:])"
   ]
  },
  {
   "cell_type": "code",
   "execution_count": 64,
   "metadata": {},
   "outputs": [],
   "source": [
    "prepare_data(1)"
   ]
  },
  {
   "cell_type": "code",
   "execution_count": 65,
   "metadata": {},
   "outputs": [
    {
     "name": "stdout",
     "output_type": "stream",
     "text": [
      "[(4188.0, 9739.0), (4288.0, 9739.0), (4288.0, 9789.0), (4188.0, 9789.0)]\n"
     ]
    }
   ],
   "source": [
    "# gapx, gapy = 100, 50\n",
    "gapx, gapy = 100, 50\n",
    "def getPos(i,m):\n",
    "    pointx = point[i][1][0]\n",
    "    pointy = point[i][1][1]\n",
    "    # print(pointx, pointy)\n",
    "    if m==1:\n",
    "        return [(pointx,pointy),(pointx+gapx,pointy),(pointx+gapx,pointy+gapy),(pointx,pointy+gapy)]\n",
    "    elif m==2:\n",
    "        return [(pointx-gapx,pointy),(pointx,pointy),(pointx,pointy+gapy),(pointx-gapx,pointy+gapy)]\n",
    "    elif m==3:\n",
    "        return [(pointx-gapx,pointy-gapy),(pointx,pointy-gapy),(pointx,pointy),(pointx-gapx,pointy)]\n",
    "    else:\n",
    "        return [(pointx, pointy-gapy),(pointx+gapx,pointy-gapy),(pointx+gapx,pointy),(pointx,pointy)]\n",
    "    \n",
    "print(getPos(1,2))"
   ]
  },
  {
   "cell_type": "code",
   "execution_count": 66,
   "metadata": {},
   "outputs": [],
   "source": [
    "def inner(point, rec):\n",
    "    if point[0] > rec[0][0] and point[1] > rec[0][1] and point[0] < rec[1][0] and point[1] > rec[1][1] and point[0] < rec[2][0] and point[1] < rec[2][1] and point[0] > rec[3][0] and point[1] < rec[3][1]:\n",
    "        return True\n",
    "    return False"
   ]
  },
  {
   "cell_type": "code",
   "execution_count": 67,
   "metadata": {},
   "outputs": [],
   "source": [
    "def conflict(vect,i,j):\n",
    "    \"\"\"\n",
    "    判断冲突\n",
    "    \"\"\"\n",
    "    m = vect[i][1]\n",
    "    n = vect[j][1]\n",
    "    reci = getPos(i,m)\n",
    "    recj = getPos(j,n)\n",
    "    for i in range(len(reci)):\n",
    "        if inner(reci[i], recj):\n",
    "            return True\n",
    "    return False\n"
   ]
  },
  {
   "cell_type": "code",
   "execution_count": 68,
   "metadata": {},
   "outputs": [],
   "source": [
    "def costconfilct(vect):\n",
    "    \"\"\"\n",
    "    计算每个点冲突\n",
    "    \"\"\"\n",
    "    sum = 0\n",
    "    for i in range(len(point)):\n",
    "        temp = 0\n",
    "        for j in range(len(point)):\n",
    "            if i != j:\n",
    "                if(conflict(vect,i,j)):\n",
    "                    temp = temp + 1\n",
    "        vect[i][2] = temp\n",
    "        sum = sum + temp\n",
    "    # print(\"conflict:\"+str(sum))\n",
    "    return sum\n",
    "\n",
    "# print(costroad(layout))"
   ]
  },
  {
   "cell_type": "code",
   "execution_count": 69,
   "metadata": {},
   "outputs": [
    {
     "data": {
      "text/plain": [
       "60"
      ]
     },
     "execution_count": 69,
     "metadata": {},
     "output_type": "execute_result"
    }
   ],
   "source": [
    "costconfilct(layout)"
   ]
  },
  {
   "cell_type": "code",
   "execution_count": 70,
   "metadata": {},
   "outputs": [
    {
     "name": "stdout",
     "output_type": "stream",
     "text": [
      "31.299999999999997\n"
     ]
    }
   ],
   "source": [
    "def cost_function(layout):\n",
    "    res = 0\n",
    "    for i in range(len(point)):\n",
    "        res = res + layout[i][1]*0.1\n",
    "    # print(res)\n",
    "    return res\n",
    "print(cost_function(layout))"
   ]
  },
  {
   "cell_type": "code",
   "execution_count": 71,
   "metadata": {},
   "outputs": [
    {
     "data": {
      "text/plain": [
       "211.3"
      ]
     },
     "execution_count": 71,
     "metadata": {},
     "output_type": "execute_result"
    }
   ],
   "source": [
    "def costroad(vect):\n",
    "    \"\"\"\n",
    "    计算每个点cost\n",
    "    \"\"\"\n",
    "    conflict = costconfilct(vect)\n",
    "    # print(\"heavy\")\n",
    "    # print(conflict)\n",
    "    conflict = 3*conflict + cost_function(vect)\n",
    "    # print(conflict)\n",
    "    return conflict\n",
    "    # sum = 0\n",
    "    # for i in range(len(point)):\n",
    "    #     temp = 0\n",
    "    #     for j in range(len(point)):\n",
    "    #         if i != j:\n",
    "    #             if(conflict(vect,i,j)):\n",
    "    #                 temp = temp + 1\n",
    "    #     vect[i][2] = temp\n",
    "    #     sum = sum + temp\n",
    "    # print(\"cost:\"+str(sum))\n",
    "    # return sum\n",
    "costroad(layout)"
   ]
  },
  {
   "cell_type": "code",
   "execution_count": 72,
   "metadata": {},
   "outputs": [],
   "source": [
    "def costrod_lite(new_set, old_set, pointx):\n",
    "    conflict_sum = 0\n",
    "    for i in range(len(point)):\n",
    "        a = conflict(new_set, i, pointx-1)\n",
    "        b = conflict(old_set, i, pointx-1)\n",
    "        # print(i,pointx,a,b)\n",
    "        if a is True and b is False:\n",
    "            # conflict_sum = conflict_sum + 1\n",
    "            new_set[i][2] = new_set[i][2]+1\n",
    "        elif a is False and b is True:\n",
    "            # conflict_sum = conflict_sum - 1\n",
    "            new_set[i][2] = new_set[i][2]-1\n",
    "    # print(new_set[pointx-1][1], old_set[pointx-1][1])\n",
    "    for i in range(len(point)):\n",
    "        conflict_sum = conflict_sum + new_set[i][2]\n",
    "    # print(\"lite\")\n",
    "    # print(conflict_sum)\n",
    "    conflict_sum = 3*conflict_sum + cost_function(new_set) - new_set[pointx-1][1]*0.1 + old_set[pointx-1][1]*0.1\n",
    "    return conflict_sum"
   ]
  },
  {
   "cell_type": "code",
   "execution_count": 73,
   "metadata": {},
   "outputs": [],
   "source": [
    "import matplotlib.pyplot as plt\n",
    "def plot(layout,name):\n",
    "        def create_rect(i, width, height):\n",
    "                pointx = point[i][1][0]\n",
    "                pointy = point[i][1][1]\n",
    "                m = layout[i][1]\n",
    "                if m==1:\n",
    "                        x,y = pointx,pointy\n",
    "                elif m==2:\n",
    "                        x, y = pointx-width,pointy\n",
    "                elif m==3:\n",
    "                        x, y = pointx-width,pointy-height\n",
    "                else:\n",
    "                        x, y = pointx, pointy-height\n",
    "                rect=plt.Rectangle(\n",
    "                        (x, y),  # (x,y)矩形左下角\n",
    "                        width,  # width长\n",
    "                        height,  # height宽\n",
    "                        # color='maroon', \n",
    "                        fill = False)\n",
    "                return rect\n",
    "        fig1 = plt.figure(figsize=(16,9))\n",
    "        plt.axis('off')\n",
    "        ax1 = fig1.add_subplot(111)\n",
    "\n",
    "        for i in range(len(point)):\n",
    "                ax1.add_patch(create_rect(i, gapx, gapy))\n",
    "        # plt.xlim(2400,5200)\n",
    "        # plt.ylim(7100,12812)\n",
    "        # plt.xlim(-20,500)\n",
    "        # plt.ylim(-20,500)\n",
    "        plt.xlim(2400,5200)\n",
    "        plt.ylim(6900,13012)\n",
    "        plt.title(\"{}\".format(name))\n",
    "        plt.savefig(\"./result/resultImg-{}.svg\".format(name), format=\"svg\")\n",
    "        plt.show()\n",
    "# plot()\n",
    "# plt.savefig('scatter.eps',dpi=600,format='eps')"
   ]
  },
  {
   "cell_type": "code",
   "execution_count": 74,
   "metadata": {},
   "outputs": [],
   "source": [
    "def plot_withname(a,name):\n",
    "        point_plot = []\n",
    "        px = []\n",
    "        py = []\n",
    "        filename_plot = \"./readytorun_withname.txt\"\n",
    "        for line in open(filename_plot):\n",
    "                text, x, y = line.strip().split(\",\")\n",
    "                point_plot.extend([(text,(float(x),float(y)))])\n",
    "        for i in range(len(point_plot)):\n",
    "                px.append(point[i][1][0])\n",
    "                py.append(point[i][1][1])\n",
    "        def text(i, width, height):\n",
    "                pointx = point_plot[i][1][0]\n",
    "                pointy = point_plot[i][1][1]\n",
    "                m = a[i][1]\n",
    "                text = point_plot[i][0]\n",
    "                if m==1:\n",
    "                        x,y = pointx,pointy\n",
    "                elif m==2:\n",
    "                        x, y = pointx-14*len(text),pointy\n",
    "                elif m==3:\n",
    "                        x, y = pointx-14*len(text),pointy-60\n",
    "                else:\n",
    "                        x, y = pointx, pointy-60\n",
    "                plt.text(\n",
    "                        x = x, # x 相对于原先的数据点向左偏移0.12个单位\n",
    "                        y = y, # y 向上偏移0.05个单位\n",
    "                        s = '{}'.format(text), # 数据格式\n",
    "                        # fontsize=3\n",
    "                        fontsize=8,\n",
    "                        color ='r') # 颜色\n",
    "                # return t\n",
    "        fig1 = plt.figure(figsize=(16,9))\n",
    "        plt.axis('off')\n",
    "        ax1 = fig1.add_subplot(111)\n",
    "\n",
    "        for i in range(len(point)):\n",
    "                text(i, gapx, gapy)\n",
    "        plt.xlim(2400,5200)\n",
    "        plt.ylim(7100,12812)\n",
    "        plt.scatter(px,py,s=1)\n",
    "        plt.title(\"{}\".format(name))\n",
    "        plt.savefig(\"./result/{}.svg\".format(name), format=\"svg\")\n",
    "        plt.show()"
   ]
  },
  {
   "cell_type": "code",
   "execution_count": 75,
   "metadata": {},
   "outputs": [],
   "source": [
    "import copy\n",
    "def tabusearch(iteration_times,cacu_time,tabu_length,origin_times,costf,printf,costflite,namefortest):\n",
    "    \"\"\"\n",
    "    iteration_times为每一个初始解的迭代次数，cacu_time为候选集合长度，tabu_length为禁忌长度，\n",
    "    origin_times为整个程序循环次数，可以理解为使用不同个初始解，costf为成本函数，printtravel为打印结果函数\n",
    "    \"\"\"\n",
    "    def pan_move(move_step,tabu_move):  #判断移动是否在禁忌区域中，如果是返回True和该点索引，否则返回False和0\n",
    "        if move_step in tabu_move:\n",
    "            index = tabu_move.index(move_step)\n",
    "            return(True,index)\n",
    "        else:\n",
    "            return(False,0)\n",
    "    def pan_cost(cost,tabu_cost,t):  #判断该移动是否比禁忌区域中该移动小，如果小则返回True，否则返回False\n",
    "        if cost<tabu_cost[t]:\n",
    "            return(True)\n",
    "        else:\n",
    "            return(False)  \n",
    "    def add_tabu(cost,move,tabu_cost,tabu_move,t):  #为禁忌区域添加移动和成本，若超过T则剔除最先进入的禁忌\n",
    "        tabu_cost.append(cost)\n",
    "        tabu_move.append(move)\n",
    "        if len(tabu_cost)>t:\n",
    "            del tabu_cost[0]\n",
    "        if len(tabu_move)>t:\n",
    "            del tabu_move[0]\n",
    "        return(tabu_cost,tabu_move)\n",
    "    def cacu(vec,t):    #为每一个初始解计算t次\n",
    "        vec_set = []\n",
    "        m_set = []\n",
    "        cost_set = []\n",
    "        h = []\n",
    "        for i in range(t):\n",
    "            v,m,c,h = move(vec,h)\n",
    "            vec_set.append(v)\n",
    "            m_set.append(m)\n",
    "            cost_set.append(c)\n",
    "        return(vec_set,m_set,cost_set)\n",
    "    def cacu_tiqu(v1,m1,c1):    #从上述t次筛选最小的解向量，移动和成本\n",
    "        t = c1.index(min(c1))\n",
    "        v_max = v1[t]\n",
    "        m_max = m1[t]\n",
    "        c_max = c1[t]\n",
    "        return(v_max,m_max,c_max)\n",
    "    def move(vec,h):  #输出移动后的向量，和成本\n",
    "        i = 1\n",
    "        while i==1:\n",
    "            sel = random.sample(vec,1)\n",
    "            # print(sel)\n",
    "            # m.sort()\n",
    "            while True:\n",
    "                nextPos = random.randint(1,4)\n",
    "                if nextPos != sel[0][1]:\n",
    "                    break\n",
    "            m = [sel[0][0],sel[0][1],nextPos]\n",
    "            if m not in h:\n",
    "                h.append(m)\n",
    "                vec_copy = copy.deepcopy(vec)\n",
    "                vec_copy[sel[0][0]-1][1] = m[2]\n",
    "                # vec_copy[vec_copy.index(m)][2] = cal\n",
    "                # vec_copy[vec_copy.index(m[1])] = m[0]\n",
    "                # print(\"vec是：\")\n",
    "                # print((vec_copy))\n",
    "                cost = costflite(vec_copy, vec, m[0])\n",
    "                # print(\"损失是：\"+str(cost))\n",
    "                i = 0\n",
    "                return(vec_copy,m,cost,h)\n",
    "    finall_road = []\n",
    "    finall_cost = []\n",
    "    layout = []\n",
    "    for t1 in range(origin_times):\n",
    "        # road = [i for i in range(1,29)]\n",
    "        # random.shuffle(road)\n",
    "        layout.clear()\n",
    "        for i in range(len(point)):\n",
    "            layout.append([i+1, random.randint(1,4), 0])\n",
    "        print(\"初始状态：\")\n",
    "        cc = costf(layout)\n",
    "        print(cc)\n",
    "        nameprefix = str(namefortest) + str(cc)\n",
    "        if namefortest != False:\n",
    "            plot(layout=layout,name=nameprefix)\n",
    "        # plot_withname(a=layout,name=nameprefix)\n",
    "        # print(costf(layout))\n",
    "        # plot(layout)\n",
    "        # fig1 = plt.figure()\n",
    "        # ax1 = fig1.add_subplot(111)\n",
    "        # for i in range(len(point)):\n",
    "        #     ax1.add_patch(create_rect(i, gapx, gapy))\n",
    "        # plt.xlim(2600,5000)\n",
    "        # plt.ylim(7100,12312)\n",
    "        # plt.show()\n",
    "\n",
    "        tabu_cost = []\n",
    "        tabu_move = []\n",
    "        tabu_length = 7 + int(costconfilct(layout)*0.25)\n",
    "        cacu_time = 1 + int(costconfilct(layout)*0.05)\n",
    "        print(\"计算次数：\"+str(cacu_time))\n",
    "        print(\"tabu长度：\"+str(tabu_length))\n",
    "        for t in range(iteration_times):\n",
    "            if t % 50 == 0:\n",
    "                cacu_time = 1 + int(costconfilct(layout)*0.05)\n",
    "                tabu_length = 7 + int(costconfilct(layout)*0.25)\n",
    "                print(\"循环次数：\"+str(t)+\"计算次数：\"+str(cacu_time))\n",
    "                print(\"循环次数：\"+str(t)+\"tabu长度：\"+str(tabu_length))\n",
    "            i = 0\n",
    "            while i==0:\n",
    "                v1,m1,c1 = cacu(layout,cacu_time)\n",
    "                v_m,m_m,c_m = cacu_tiqu(v1,m1,c1)\n",
    "                key1 = pan_move(m_m,tabu_move)\n",
    "                if key1[0]:\n",
    "                    print(\"enter!\")\n",
    "                    if pan_cost(c_m,tabu_cost,key1[1]):\n",
    "                        layout = v_m\n",
    "                        finall_road.append(layout)\n",
    "                        print(\"costfunc:\"+str(c_m))\n",
    "                        finall_cost.append(c_m)\n",
    "                        tabu_cost,tabu_move = add_tabu(c_m,m_m,tabu_cost,tabu_move,tabu_length)\n",
    "                        i=1\n",
    "                    else:\n",
    "                        v1.remove(v_m)\n",
    "                        m1.remove(m_m)\n",
    "                        c1.remove(c_m)\n",
    "                        if len(v1)==0:\n",
    "                            i = 1\n",
    "                else:\n",
    "                    # print(\"costfunc:\"+str(c_m))\n",
    "                    tabu_cost,tabu_move = add_tabu(c_m,m_m,tabu_cost,tabu_move,tabu_length)\n",
    "                    layout = v_m\n",
    "                    finall_road.append(layout)\n",
    "                    finall_cost.append(c_m)\n",
    "                    i = 1\n",
    "    index = finall_cost.index(min(finall_cost))\n",
    "    # s2 = datetime.datetime.now()\n",
    "    # plot(finall_road[index])\n",
    "    return(finall_road[index],min(finall_cost),printf(finall_road[index]),costconfilct(layout))\n"
   ]
  },
  {
   "cell_type": "code",
   "execution_count": 76,
   "metadata": {},
   "outputs": [],
   "source": [
    "# tabusearch(iteration_times=1000,cacu_time=10,tabu_length=10,origin_times=1,costf=costroad,printf=print)\n",
    "# # plot()"
   ]
  },
  {
   "cell_type": "code",
   "execution_count": null,
   "metadata": {},
   "outputs": [],
   "source": [
    "prepare_data(1)\n",
    "test1_name1 = \"3000_10_10_128_random\"\n",
    "test1_name2 = \"3000_10_10_128_result\"\n",
    "a,b,c,d = tabusearch(iteration_times=3000,cacu_time=10,tabu_length=10,origin_times=1,costf=costroad,printf=print,costflite=costrod_lite,namefortest=test1_name1)\n",
    "# plt.plot(result_record)\n",
    "# plt.show()\n",
    "cc = costroad(a)\n",
    "print(cc)\n",
    "print(costconfilct(a))\n",
    "nameprefix = str(test1_name2) + str(cc)\n",
    "plot(layout=a,name=nameprefix)\n",
    "# plot_withname(a=a, name=nameprefix)\n",
    "print(b)\n",
    "# plt.plot(result_record)\n",
    "# plt.show()"
   ]
  },
  {
   "cell_type": "code",
   "execution_count": null,
   "metadata": {},
   "outputs": [],
   "source": [
    "prepare_data(1)\n",
    "test1_name1 = \"500_10_10_128_random\"\n",
    "test1_name2 = \"500_10_10_128_result\"\n",
    "a,b,c,d = tabusearch(iteration_times=500,cacu_time=10,tabu_length=10,origin_times=1,costf=costroad,printf=print,costflite=costrod_lite,namefortest=test1_name1)\n",
    "# plt.plot(result_record)\n",
    "# plt.show()\n",
    "cc = costroad(a)\n",
    "print(cc)\n",
    "nameprefix = str(test1_name2) + str(cc)\n",
    "plot(layout=a,name=nameprefix)\n",
    "# plt.plot(result_record)\n",
    "# plt.show()"
   ]
  },
  {
   "cell_type": "code",
   "execution_count": null,
   "metadata": {},
   "outputs": [],
   "source": [
    "import time\n",
    "cpu_time = []\n",
    "cost = []\n",
    "conflicts = []\n",
    "for i in range(100):\n",
    "    prepare_data(1)\n",
    "    tic = time.time()\n",
    "    a,b,c,d = tabusearch(iteration_times=3000,cacu_time=10,tabu_length=10,origin_times=1,costf=costroad,printf=print,costflite=costrod_lite,namefortest=False)\n",
    "    toc = time.time()\n",
    "    cputime = toc-tic\n",
    "    cc = costroad(a)\n",
    "    confict_count = costconfilct(a)\n",
    "    cpu_time.append(cputime)\n",
    "    conflicts.append(confict_count)\n",
    "    cost.append(cc)\n",
    "    print(cc, conflict)\n",
    "# print(cpu_time.mean(), cost.mean(), conflicts.mean())\n"
   ]
  },
  {
   "cell_type": "code",
   "execution_count": 79,
   "metadata": {},
   "outputs": [],
   "source": [
    "def Get_Average(list):\n",
    "    sum = 0\n",
    "    for item in list:\n",
    "        sum += item\n",
    "    return sum/len(list)"
   ]
  },
  {
   "cell_type": "code",
   "execution_count": 80,
   "metadata": {},
   "outputs": [
    {
     "name": "stdout",
     "output_type": "stream",
     "text": [
      "8.519344716072082 60.07700000000002 8.88\n"
     ]
    }
   ],
   "source": [
    "print(Get_Average(cpu_time), Get_Average(cost), Get_Average(conflicts))"
   ]
  }
 ],
 "metadata": {
  "interpreter": {
   "hash": "f2eaed25645717b3c0327a6b49ee89aa6de2d935938af09fb76ad62ac3c040a5"
  },
  "kernelspec": {
   "display_name": "Python 3.10.2 ('tabu')",
   "language": "python",
   "name": "python3"
  },
  "language_info": {
   "codemirror_mode": {
    "name": "ipython",
    "version": 3
   },
   "file_extension": ".py",
   "mimetype": "text/x-python",
   "name": "python",
   "nbconvert_exporter": "python",
   "pygments_lexer": "ipython3",
   "version": "3.9.7"
  },
  "orig_nbformat": 4
 },
 "nbformat": 4,
 "nbformat_minor": 2
}
