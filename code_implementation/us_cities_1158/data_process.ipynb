{
 "cells": [
  {
   "cell_type": "code",
   "execution_count": 9,
   "metadata": {},
   "outputs": [],
   "source": [
    "filename = \"us_cities_1158.xyn.txt\"\n",
    "outputname = \"us_cities_1158_afterprocess.xyn.txt\"\n",
    "file = open(outputname,'w')\n",
    "index = 1\n",
    "for line in open(filename):\n",
    "    # trim = line[1:]\n",
    "    # print(trim)\n",
    "    l = line.index('\"')\n",
    "    trim = line[1:l]\n",
    "    out = str(index)+\" \"+trim+\"\\n\"\n",
    "    index = index + 1\n",
    "    file.writelines(out)\n",
    "    # print(out)"
   ]
  },
  {
   "cell_type": "code",
   "execution_count": null,
   "metadata": {},
   "outputs": [],
   "source": [
    "import numpy as np\n",
    "point=[]\n",
    "for line in open('./us_cities_1158_afterprocess.xyn.txt'):\n",
    "    index, x, y = line.strip().split(\" \")\n",
    "    point.append([float(x),float(y)])\n",
    "print(point)\n",
    "arr = np.array(point)"
   ]
  },
  {
   "cell_type": "code",
   "execution_count": 12,
   "metadata": {},
   "outputs": [
    {
     "name": "stdout",
     "output_type": "stream",
     "text": [
      "[45.45 32.42 51.88 ... 32.65 32.85 39.95]\n",
      "67.78 19.72\n",
      "176.65 71.3\n"
     ]
    }
   ],
   "source": [
    "print(arr[:,1])\n",
    "minx = arr[:,0].min()\n",
    "miny = arr[:,1].min()\n",
    "maxx = arr[:,0].max()\n",
    "maxy = arr[:,1].max()\n",
    "print(minx,miny)\n",
    "print(maxx,maxy)"
   ]
  }
 ],
 "metadata": {
  "interpreter": {
   "hash": "f2eaed25645717b3c0327a6b49ee89aa6de2d935938af09fb76ad62ac3c040a5"
  },
  "kernelspec": {
   "display_name": "Python 3.10.2 ('tabu')",
   "language": "python",
   "name": "python3"
  },
  "language_info": {
   "codemirror_mode": {
    "name": "ipython",
    "version": 3
   },
   "file_extension": ".py",
   "mimetype": "text/x-python",
   "name": "python",
   "nbconvert_exporter": "python",
   "pygments_lexer": "ipython3",
   "version": "3.10.2"
  },
  "orig_nbformat": 4
 },
 "nbformat": 4,
 "nbformat_minor": 2
}
