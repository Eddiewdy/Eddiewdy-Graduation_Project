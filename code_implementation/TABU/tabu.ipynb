{
 "cells": [
  {
   "cell_type": "code",
   "execution_count": 37,
   "metadata": {},
   "outputs": [],
   "source": [
    "import random\n",
    "\"\"\"\n",
    "point[index, (x,y)]\n",
    "layout[index, place]\n",
    "\"\"\"\n",
    "point=[]\n",
    "layout=[]\n",
    "filename = \"./readytorun.txt\""
   ]
  },
  {
   "cell_type": "code",
   "execution_count": 38,
   "metadata": {},
   "outputs": [],
   "source": [
    "def prepare_data(select):\n",
    "    point.clear()\n",
    "    layout.clear()\n",
    "    num = 1\n",
    "    for line in open(filename):\n",
    "        index, x, y = line.strip().split(\",\")\n",
    "        if int(index) % select == 0:\n",
    "            point.extend([(num,(float(x),float(y)))])\n",
    "            num = num + 1\n",
    "    for i in range(len(point)):\n",
    "        layout.append([i+1, random.randint(1,4), 0])\n",
    "    print(layout[:])\n",
    "    print(point[:])"
   ]
  },
  {
   "cell_type": "code",
   "execution_count": 39,
   "metadata": {},
   "outputs": [
    {
     "name": "stdout",
     "output_type": "stream",
     "text": [
      "[[1, 3, 0], [2, 2, 0], [3, 2, 0], [4, 1, 0], [5, 4, 0], [6, 4, 0], [7, 4, 0], [8, 3, 0], [9, 1, 0], [10, 3, 0], [11, 4, 0], [12, 1, 0], [13, 3, 0], [14, 4, 0], [15, 3, 0], [16, 2, 0], [17, 4, 0], [18, 2, 0], [19, 3, 0], [20, 4, 0], [21, 2, 0], [22, 3, 0], [23, 4, 0], [24, 2, 0], [25, 2, 0], [26, 2, 0], [27, 3, 0], [28, 3, 0], [29, 4, 0], [30, 2, 0], [31, 1, 0], [32, 4, 0], [33, 2, 0], [34, 4, 0], [35, 4, 0], [36, 2, 0], [37, 4, 0], [38, 2, 0], [39, 1, 0], [40, 3, 0], [41, 3, 0], [42, 2, 0], [43, 4, 0], [44, 1, 0], [45, 4, 0], [46, 2, 0], [47, 3, 0], [48, 1, 0], [49, 1, 0], [50, 1, 0], [51, 3, 0], [52, 4, 0], [53, 2, 0], [54, 4, 0], [55, 2, 0], [56, 1, 0], [57, 1, 0], [58, 4, 0], [59, 1, 0], [60, 4, 0], [61, 3, 0], [62, 3, 0], [63, 4, 0], [64, 4, 0], [65, 3, 0], [66, 2, 0], [67, 3, 0], [68, 1, 0], [69, 2, 0], [70, 3, 0], [71, 2, 0], [72, 2, 0], [73, 4, 0], [74, 3, 0], [75, 4, 0], [76, 3, 0], [77, 2, 0], [78, 1, 0], [79, 2, 0], [80, 1, 0], [81, 2, 0], [82, 4, 0], [83, 4, 0], [84, 4, 0], [85, 3, 0], [86, 4, 0], [87, 1, 0], [88, 1, 0], [89, 4, 0], [90, 1, 0], [91, 1, 0], [92, 2, 0], [93, 1, 0], [94, 1, 0], [95, 1, 0], [96, 3, 0], [97, 3, 0], [98, 1, 0], [99, 2, 0], [100, 2, 0], [101, 2, 0], [102, 2, 0], [103, 2, 0], [104, 4, 0], [105, 4, 0], [106, 1, 0], [107, 1, 0], [108, 4, 0], [109, 3, 0], [110, 2, 0], [111, 2, 0], [112, 2, 0], [113, 1, 0], [114, 4, 0], [115, 1, 0], [116, 1, 0], [117, 4, 0], [118, 3, 0], [119, 2, 0], [120, 1, 0], [121, 2, 0], [122, 3, 0], [123, 3, 0], [124, 1, 0], [125, 4, 0], [126, 2, 0], [127, 3, 0], [128, 3, 0]]\n",
      "[(1, (4110.0, 8065.0)), (2, (4288.0, 9739.0)), (3, (4660.0, 12051.0)), (4, (4227.0, 7180.0)), (5, (4363.0, 8977.0)), (6, (3610.0, 8025.0)), (7, (4988.0, 9715.0)), (8, (3919.0, 7816.0)), (9, (3424.0, 7792.0)), (10, (3975.0, 7555.0)), (11, (4815.0, 10362.0)), (12, (4125.0, 7700.0)), (13, (3768.0, 8228.0)), (14, (3390.0, 9849.0)), (15, (3769.0, 9734.0)), (16, (4007.0, 8072.0)), (17, (2672.0, 8005.0)), (18, (4742.0, 12032.0)), (19, (4142.0, 12239.0)), (20, (3122.0, 8235.0)), (21, (4496.0, 8964.0)), (22, (4236.0, 8783.0)), (23, (4490.0, 9711.0)), (24, (4398.0, 7592.0)), (25, (4250.0, 9234.0)), (26, (4155.0, 7305.0)), (27, (3889.0, 7703.0)), (28, (4185.0, 7914.0)), (29, (4607.0, 11833.0)), (30, (3155.0, 9714.0)), (31, (3868.0, 8753.0)), (32, (2881.0, 9701.0)), (33, (3235.0, 9088.0)), (34, (4927.0, 12312.0)), (35, (4692.0, 9801.0)), (36, (3083.0, 8328.0)), (37, (4311.0, 7523.0)), (38, (3990.0, 7973.0)), (39, (3235.0, 9530.0)), (40, (4256.0, 11447.0)), (41, (3321.0, 8757.0)), (42, (3426.0, 8871.0)), (43, (3616.0, 9591.0)), (44, (3222.0, 11097.0)), (45, (3717.0, 10451.0)), (46, (4023.0, 7477.0)), (47, (4476.0, 8563.0)), (48, (4365.0, 7938.0)), (49, (3905.0, 9567.0)), (50, (4165.0, 8354.0)), (51, (3343.0, 9405.0)), (52, (3947.0, 8741.0)), (53, (2795.0, 8245.0)), (54, (3045.0, 8428.0)), (55, (4724.0, 12243.0)), (56, (4305.0, 7615.0)), (57, (3260.0, 8234.0)), (58, (3392.0, 8035.0)), (59, (4099.0, 7519.0)), (60, (3796.0, 12129.0)), (61, (4452.0, 8957.0)), (62, (4036.0, 8062.0)), (63, (4062.0, 10322.0)), (64, (3815.0, 7907.0)), (65, (3992.0, 8381.0)), (66, (3722.0, 9329.0)), (67, (4210.0, 7259.0)), (68, (3980.0, 8965.0)), (69, (4767.0, 11741.0)), (70, (4168.0, 8625.0)), (71, (4354.0, 9673.0)), (72, (4249.0, 9639.0)), (73, (3251.0, 9375.0)), (74, (3364.0, 9661.0)), (75, (4480.0, 10696.0)), (76, (3523.0, 9668.0)), (77, (3242.0, 8702.0)), (78, (3871.0, 9323.0)), (79, (4760.0, 12233.0)), (80, (4141.0, 7567.0)), (81, (4187.0, 10366.0)), (82, (4282.0, 7395.0)), (83, (3208.0, 8109.0)), (84, (4649.0, 8435.0)), (85, (2734.0, 8253.0)), (86, (3844.0, 12272.0)), (87, (3568.0, 10595.0)), (88, (3442.0, 11970.0)), (89, (3376.0, 11787.0)), (90, (3734.0, 12188.0)), (91, (3778.0, 12242.0)), (92, (4145.0, 8271.0)), (93, (3271.0, 11715.0)), (94, (3411.0, 11731.0)), (95, (2942.0, 9850.0)), (96, (3146.0, 10044.0)), (97, (4076.0, 11188.0)), (98, (3837.0, 7560.0)), (99, (3667.0, 12165.0)), (100, (3884.0, 9761.0)), (101, (3853.0, 10600.0)), (102, (4494.0, 12303.0)), (103, (4495.0, 9310.0)), (104, (3862.0, 9019.0)), (105, (3977.0, 9484.0)), (106, (4210.0, 8648.0)), (107, (4442.0, 7202.0)), (108, (4557.0, 9417.0)), (109, (2989.0, 8132.0)), (110, (4343.0, 8394.0)), (111, (3859.0, 12149.0)), (112, (4361.0, 7297.0)), (113, (3340.0, 10453.0)), (114, (3594.0, 7780.0)), (115, (4159.0, 10923.0)), (116, (4227.0, 8910.0)), (117, (4316.0, 7761.0)), (118, (4402.0, 9246.0)), (119, (3727.0, 7994.0)), (120, (3754.0, 7745.0)), (121, (3983.0, 8489.0)), (122, (3877.0, 11209.0)), (123, (4564.0, 8942.0)), (124, (3952.0, 11981.0)), (125, (5042.0, 10465.0)), (126, (4018.0, 12224.0)), (127, (4033.0, 7593.0)), (128, (4116.0, 8124.0))]\n"
     ]
    }
   ],
   "source": [
    "prepare_data(1)"
   ]
  },
  {
   "cell_type": "code",
   "execution_count": 40,
   "metadata": {},
   "outputs": [
    {
     "name": "stdout",
     "output_type": "stream",
     "text": [
      "[(4188.0, 9739.0), (4288.0, 9739.0), (4288.0, 9789.0), (4188.0, 9789.0)]\n"
     ]
    }
   ],
   "source": [
    "gapx, gapy = 100, 50\n",
    "def getPos(i,m):\n",
    "    pointx = point[i][1][0]\n",
    "    pointy = point[i][1][1]\n",
    "    # print(pointx, pointy)\n",
    "    if m==1:\n",
    "        return [(pointx,pointy),(pointx+gapx,pointy),(pointx+gapx,pointy+gapy),(pointx,pointy+gapy)]\n",
    "    elif m==2:\n",
    "        return [(pointx-gapx,pointy),(pointx,pointy),(pointx,pointy+gapy),(pointx-gapx,pointy+gapy)]\n",
    "    elif m==3:\n",
    "        return [(pointx-gapx,pointy-gapy),(pointx,pointy-gapy),(pointx,pointy),(pointx-gapx,pointy)]\n",
    "    else:\n",
    "        return [(pointx, pointy-gapy),(pointx+gapx,pointy-gapy),(pointx+gapx,pointy),(pointx,pointy)]\n",
    "    \n",
    "print(getPos(1,2))"
   ]
  },
  {
   "cell_type": "code",
   "execution_count": 41,
   "metadata": {},
   "outputs": [],
   "source": [
    "def inner(point, rec):\n",
    "    if point[0] > rec[0][0] and point[1] > rec[0][1] and point[0] < rec[1][0] and point[1] > rec[1][1] and point[0] < rec[2][0] and point[1] < rec[2][1] and point[0] > rec[3][0] and point[1] < rec[3][1]:\n",
    "        return True\n",
    "    return False"
   ]
  },
  {
   "cell_type": "code",
   "execution_count": 42,
   "metadata": {},
   "outputs": [],
   "source": [
    "def conflict(vect,i,j):\n",
    "    \"\"\"\n",
    "    判断冲突\n",
    "    \"\"\"\n",
    "    m = vect[i][1]\n",
    "    n = vect[j][1]\n",
    "    reci = getPos(i,m)\n",
    "    recj = getPos(j,n)\n",
    "    for i in range(len(reci)):\n",
    "        if inner(reci[i], recj):\n",
    "            return True\n",
    "    return False\n"
   ]
  },
  {
   "cell_type": "code",
   "execution_count": 43,
   "metadata": {},
   "outputs": [],
   "source": [
    "def costconfilct(vect):\n",
    "    \"\"\"\n",
    "    计算每个点冲突\n",
    "    \"\"\"\n",
    "    sum = 0\n",
    "    for i in range(len(point)):\n",
    "        temp = 0\n",
    "        for j in range(len(point)):\n",
    "            if i != j:\n",
    "                if(conflict(vect,i,j)):\n",
    "                    temp = temp + 1\n",
    "        vect[i][2] = temp\n",
    "        sum = sum + temp\n",
    "    # print(\"conflict:\"+str(sum))\n",
    "    return sum\n",
    "\n",
    "# print(costroad(layout))"
   ]
  },
  {
   "cell_type": "code",
   "execution_count": 44,
   "metadata": {},
   "outputs": [
    {
     "name": "stdout",
     "output_type": "stream",
     "text": [
      "32.3\n"
     ]
    }
   ],
   "source": [
    "def cost_function():\n",
    "    res = 0\n",
    "    for i in range(len(point)):\n",
    "        res = res + layout[i][1]*0.1\n",
    "    return res\n",
    "print(cost_function())"
   ]
  },
  {
   "cell_type": "code",
   "execution_count": 45,
   "metadata": {},
   "outputs": [
    {
     "data": {
      "text/plain": [
       "170.3"
      ]
     },
     "execution_count": 45,
     "metadata": {},
     "output_type": "execute_result"
    }
   ],
   "source": [
    "def costroad(vect):\n",
    "    \"\"\"\n",
    "    计算每个点cost\n",
    "    \"\"\"\n",
    "    conflict = costconfilct(vect)\n",
    "    conflict = 3*conflict + cost_function()\n",
    "    # print(conflict)\n",
    "    return conflict\n",
    "    # sum = 0\n",
    "    # for i in range(len(point)):\n",
    "    #     temp = 0\n",
    "    #     for j in range(len(point)):\n",
    "    #         if i != j:\n",
    "    #             if(conflict(vect,i,j)):\n",
    "    #                 temp = temp + 1\n",
    "    #     vect[i][2] = temp\n",
    "    #     sum = sum + temp\n",
    "    # print(\"cost:\"+str(sum))\n",
    "    # return sum\n",
    "costroad(layout)"
   ]
  },
  {
   "cell_type": "code",
   "execution_count": 46,
   "metadata": {},
   "outputs": [],
   "source": [
    "import matplotlib.pyplot as plt\n",
    "def plot(layout,name):\n",
    "        def create_rect(index, width, height):\n",
    "                pointx = point[i][1][0]\n",
    "                pointy = point[i][1][1]\n",
    "                m = layout[i][1]\n",
    "                if m==1:\n",
    "                        x,y = pointx,pointy\n",
    "                elif m==2:\n",
    "                        x, y = pointx-width,pointy\n",
    "                elif m==3:\n",
    "                        x, y = pointx-width,pointy-height\n",
    "                else:\n",
    "                        x, y = pointx, pointy-height\n",
    "                rect=plt.Rectangle(\n",
    "                        (x, y),  # (x,y)矩形左下角\n",
    "                        width,  # width长\n",
    "                        height,  # height宽\n",
    "                        # color='maroon', \n",
    "                        fill = False)\n",
    "                return rect\n",
    "        fig1 = plt.figure()\n",
    "        plt.axis('off')\n",
    "        ax1 = fig1.add_subplot(111)\n",
    "\n",
    "        for i in range(len(point)):\n",
    "                ax1.add_patch(create_rect(i, gapx, gapy))\n",
    "        plt.xlim(2600,5100)\n",
    "        plt.ylim(7100,12412)\n",
    "        plt.savefig(\"./result/resultImg-{}.svg\".format(name), format=\"svg\")\n",
    "        plt.show()\n",
    "# plot()\n",
    "# plt.savefig('scatter.eps',dpi=600,format='eps')"
   ]
  },
  {
   "cell_type": "code",
   "execution_count": 47,
   "metadata": {},
   "outputs": [],
   "source": [
    "import copy\n",
    "def tabusearch(iteration_times,cacu_time,tabu_length,origin_times,costf,printf,namefortest):\n",
    "    \"\"\"\n",
    "    iteration_times为每一个初始解的迭代次数，cacu_time为候选集合长度，tabu_length为禁忌长度，\n",
    "    origin_times为整个程序循环次数，可以理解为使用不同个初始解，costf为成本函数，printtravel为打印结果函数\n",
    "    \"\"\"\n",
    "    def pan_move(move_step,tabu_move):  #判断移动是否在禁忌区域中，如果是返回True和该点索引，否则返回False和0\n",
    "        if move_step in tabu_move:\n",
    "            index = tabu_move.index(move_step)\n",
    "            return(True,index)\n",
    "        else:\n",
    "            return(False,0)\n",
    "    def pan_cost(cost,tabu_cost,t):  #判断该移动是否比禁忌区域中该移动小，如果小则返回True，否则返回False\n",
    "        if cost<tabu_cost[t]:\n",
    "            return(True)\n",
    "        else:\n",
    "            return(False)  \n",
    "    def add_tabu(cost,move,tabu_cost,tabu_move,t):  #为禁忌区域添加移动和成本，若超过T则剔除最先进入的禁忌\n",
    "        tabu_cost.append(cost)\n",
    "        tabu_move.append(move)\n",
    "        if len(tabu_cost)>t:\n",
    "            del tabu_cost[0]\n",
    "        if len(tabu_move)>t:\n",
    "            del tabu_move[0]\n",
    "        return(tabu_cost,tabu_move)\n",
    "    def cacu(vec,t):    #为每一个初始解计算t次\n",
    "        vec_set = []\n",
    "        m_set = []\n",
    "        cost_set = []\n",
    "        h = []\n",
    "        for i in range(t):\n",
    "            v,m,c,h = move(vec,h)\n",
    "            vec_set.append(v)\n",
    "            m_set.append(m)\n",
    "            cost_set.append(c)\n",
    "        return(vec_set,m_set,cost_set)\n",
    "    def cacu_tiqu(v1,m1,c1):    #从上述t次筛选最小的解向量，移动和成本\n",
    "        t = c1.index(min(c1))\n",
    "        v_max = v1[t]\n",
    "        m_max = m1[t]\n",
    "        c_max = c1[t]\n",
    "        return(v_max,m_max,c_max)\n",
    "    def move(vec,h):  #输出移动后的向量，和成本\n",
    "        i = 1\n",
    "        while i==1:\n",
    "            sel = random.sample(vec,1)\n",
    "            # print(sel)\n",
    "            # m.sort()\n",
    "            while True:\n",
    "                nextPos = random.randint(1,4)\n",
    "                if nextPos != sel[0][1]:\n",
    "                    break\n",
    "            m = [sel[0][0],sel[0][1],nextPos]\n",
    "            if m not in h:\n",
    "                h.append(m)\n",
    "                vec_copy = copy.deepcopy(vec)\n",
    "                vec_copy[sel[0][0]-1][1] = m[2]\n",
    "                # vec_copy[vec_copy.index(m)][2] = cal\n",
    "                # vec_copy[vec_copy.index(m[1])] = m[0]\n",
    "                # print(\"vec是：\")\n",
    "                # print((vec_copy))\n",
    "                cost = costf(vec_copy)\n",
    "                # print(\"损失是：\"+str(cost))\n",
    "                i = 0\n",
    "                return(vec_copy,m,cost,h)\n",
    "    finall_road = []\n",
    "    finall_cost = []\n",
    "    layout = []\n",
    "    for t1 in range(origin_times):\n",
    "        # road = [i for i in range(1,29)]\n",
    "        # random.shuffle(road)\n",
    "        layout.clear()\n",
    "        for i in range(len(point)):\n",
    "            layout.append([i+1, random.randint(1,4), 0])\n",
    "        print(\"初始状态：\")\n",
    "        cc = costf(layout)\n",
    "        print(cc)\n",
    "        nameprefix = str(namefortest) + str(cc)\n",
    "        plot(layout=layout,name=nameprefix)\n",
    "        # print(costf(layout))\n",
    "        # plot(layout)\n",
    "        # fig1 = plt.figure()\n",
    "        # ax1 = fig1.add_subplot(111)\n",
    "        # for i in range(len(point)):\n",
    "        #     ax1.add_patch(create_rect(i, gapx, gapy))\n",
    "        # plt.xlim(2600,5000)\n",
    "        # plt.ylim(7100,12312)\n",
    "        # plt.show()\n",
    "\n",
    "        tabu_cost = []\n",
    "        tabu_move = []\n",
    "        tabu_length = 7 + int(costconfilct(layout)*0.25)\n",
    "        cacu_time = 1 + int(costconfilct(layout)*0.05)\n",
    "        print(\"计算次数：\"+str(cacu_time))\n",
    "        print(\"tabu长度：\"+str(tabu_length))\n",
    "        for t in range(iteration_times):\n",
    "            if t % 50 == 0:\n",
    "                cacu_time = 1 + int(costconfilct(layout)*0.05)\n",
    "                tabu_length = 7 + int(costconfilct(layout)*0.25)\n",
    "                print(\"循环次数：\"+str(t)+\"计算次数：\"+str(cacu_time))\n",
    "                print(\"循环次数：\"+str(t)+\"tabu长度：\"+str(tabu_length))\n",
    "            i = 0\n",
    "            while i==0:\n",
    "                v1,m1,c1 = cacu(layout,cacu_time)\n",
    "                v_m,m_m,c_m = cacu_tiqu(v1,m1,c1)\n",
    "                key1 = pan_move(m_m,tabu_move)\n",
    "                if key1[0]:\n",
    "                    print(\"enter!\")\n",
    "                    if pan_cost(c_m,tabu_cost,key1[1]):\n",
    "                        layout = v_m\n",
    "                        finall_road.append(layout)\n",
    "                        print(\"costfunc:\"+str(c_m))\n",
    "                        finall_cost.append(c_m)\n",
    "                        tabu_cost,tabu_move = add_tabu(c_m,m_m,tabu_cost,tabu_move,tabu_length)\n",
    "                        i=1\n",
    "                    else:\n",
    "                        v1.remove(v_m)\n",
    "                        m1.remove(m_m)\n",
    "                        c1.remove(c_m)\n",
    "                        if len(v1)==0:\n",
    "                            i = 1\n",
    "                else:\n",
    "                    # print(\"costfunc:\"+str(c_m))\n",
    "                    tabu_cost,tabu_move = add_tabu(c_m,m_m,tabu_cost,tabu_move,tabu_length)\n",
    "                    layout = v_m\n",
    "                    finall_road.append(layout)\n",
    "                    finall_cost.append(c_m)\n",
    "                    i = 1\n",
    "    index = finall_cost.index(min(finall_cost))\n",
    "    # s2 = datetime.datetime.now()\n",
    "    # plot(finall_road[index])\n",
    "    return(finall_road[index],min(finall_cost),printf(finall_road[index]),costconfilct(layout))\n"
   ]
  },
  {
   "cell_type": "code",
   "execution_count": 48,
   "metadata": {},
   "outputs": [],
   "source": [
    "# tabusearch(iteration_times=1000,cacu_time=10,tabu_length=10,origin_times=1,costf=costroad,printf=print)\n",
    "# # plot()"
   ]
  },
  {
   "cell_type": "code",
   "execution_count": 49,
   "metadata": {},
   "outputs": [
    {
     "name": "stdout",
     "output_type": "stream",
     "text": [
      "[[1, 3, 0], [2, 1, 0], [3, 2, 0], [4, 2, 0], [5, 4, 0], [6, 3, 0], [7, 3, 0], [8, 1, 0], [9, 1, 0], [10, 1, 0], [11, 1, 0], [12, 1, 0], [13, 2, 0], [14, 1, 0], [15, 4, 0], [16, 4, 0], [17, 1, 0], [18, 2, 0], [19, 3, 0], [20, 3, 0], [21, 2, 0], [22, 4, 0], [23, 4, 0], [24, 4, 0], [25, 4, 0], [26, 2, 0], [27, 2, 0], [28, 4, 0], [29, 4, 0], [30, 1, 0], [31, 2, 0], [32, 1, 0], [33, 4, 0], [34, 3, 0], [35, 4, 0], [36, 1, 0], [37, 2, 0], [38, 2, 0], [39, 1, 0], [40, 3, 0], [41, 2, 0], [42, 4, 0], [43, 3, 0], [44, 1, 0], [45, 1, 0], [46, 3, 0], [47, 2, 0], [48, 2, 0], [49, 1, 0], [50, 1, 0], [51, 2, 0], [52, 2, 0], [53, 4, 0], [54, 2, 0], [55, 1, 0], [56, 3, 0], [57, 1, 0], [58, 2, 0], [59, 3, 0], [60, 4, 0], [61, 4, 0], [62, 2, 0], [63, 3, 0], [64, 4, 0], [65, 3, 0], [66, 4, 0], [67, 1, 0], [68, 2, 0], [69, 2, 0], [70, 2, 0], [71, 2, 0], [72, 4, 0], [73, 1, 0], [74, 3, 0], [75, 3, 0], [76, 4, 0], [77, 2, 0], [78, 3, 0], [79, 4, 0], [80, 2, 0], [81, 1, 0], [82, 1, 0], [83, 4, 0], [84, 2, 0], [85, 1, 0], [86, 2, 0], [87, 1, 0], [88, 1, 0], [89, 3, 0], [90, 2, 0], [91, 1, 0], [92, 3, 0], [93, 4, 0], [94, 2, 0], [95, 1, 0], [96, 2, 0], [97, 1, 0], [98, 3, 0], [99, 4, 0], [100, 3, 0], [101, 3, 0], [102, 1, 0], [103, 3, 0], [104, 3, 0], [105, 3, 0], [106, 3, 0], [107, 2, 0], [108, 4, 0], [109, 1, 0], [110, 1, 0], [111, 4, 0], [112, 3, 0], [113, 3, 0], [114, 2, 0], [115, 2, 0], [116, 2, 0], [117, 1, 0], [118, 2, 0], [119, 2, 0], [120, 4, 0], [121, 4, 0], [122, 4, 0], [123, 4, 0], [124, 3, 0], [125, 3, 0], [126, 3, 0], [127, 3, 0], [128, 4, 0]]\n",
      "[(1, (4110.0, 8065.0)), (2, (4288.0, 9739.0)), (3, (4660.0, 12051.0)), (4, (4227.0, 7180.0)), (5, (4363.0, 8977.0)), (6, (3610.0, 8025.0)), (7, (4988.0, 9715.0)), (8, (3919.0, 7816.0)), (9, (3424.0, 7792.0)), (10, (3975.0, 7555.0)), (11, (4815.0, 10362.0)), (12, (4125.0, 7700.0)), (13, (3768.0, 8228.0)), (14, (3390.0, 9849.0)), (15, (3769.0, 9734.0)), (16, (4007.0, 8072.0)), (17, (2672.0, 8005.0)), (18, (4742.0, 12032.0)), (19, (4142.0, 12239.0)), (20, (3122.0, 8235.0)), (21, (4496.0, 8964.0)), (22, (4236.0, 8783.0)), (23, (4490.0, 9711.0)), (24, (4398.0, 7592.0)), (25, (4250.0, 9234.0)), (26, (4155.0, 7305.0)), (27, (3889.0, 7703.0)), (28, (4185.0, 7914.0)), (29, (4607.0, 11833.0)), (30, (3155.0, 9714.0)), (31, (3868.0, 8753.0)), (32, (2881.0, 9701.0)), (33, (3235.0, 9088.0)), (34, (4927.0, 12312.0)), (35, (4692.0, 9801.0)), (36, (3083.0, 8328.0)), (37, (4311.0, 7523.0)), (38, (3990.0, 7973.0)), (39, (3235.0, 9530.0)), (40, (4256.0, 11447.0)), (41, (3321.0, 8757.0)), (42, (3426.0, 8871.0)), (43, (3616.0, 9591.0)), (44, (3222.0, 11097.0)), (45, (3717.0, 10451.0)), (46, (4023.0, 7477.0)), (47, (4476.0, 8563.0)), (48, (4365.0, 7938.0)), (49, (3905.0, 9567.0)), (50, (4165.0, 8354.0)), (51, (3343.0, 9405.0)), (52, (3947.0, 8741.0)), (53, (2795.0, 8245.0)), (54, (3045.0, 8428.0)), (55, (4724.0, 12243.0)), (56, (4305.0, 7615.0)), (57, (3260.0, 8234.0)), (58, (3392.0, 8035.0)), (59, (4099.0, 7519.0)), (60, (3796.0, 12129.0)), (61, (4452.0, 8957.0)), (62, (4036.0, 8062.0)), (63, (4062.0, 10322.0)), (64, (3815.0, 7907.0)), (65, (3992.0, 8381.0)), (66, (3722.0, 9329.0)), (67, (4210.0, 7259.0)), (68, (3980.0, 8965.0)), (69, (4767.0, 11741.0)), (70, (4168.0, 8625.0)), (71, (4354.0, 9673.0)), (72, (4249.0, 9639.0)), (73, (3251.0, 9375.0)), (74, (3364.0, 9661.0)), (75, (4480.0, 10696.0)), (76, (3523.0, 9668.0)), (77, (3242.0, 8702.0)), (78, (3871.0, 9323.0)), (79, (4760.0, 12233.0)), (80, (4141.0, 7567.0)), (81, (4187.0, 10366.0)), (82, (4282.0, 7395.0)), (83, (3208.0, 8109.0)), (84, (4649.0, 8435.0)), (85, (2734.0, 8253.0)), (86, (3844.0, 12272.0)), (87, (3568.0, 10595.0)), (88, (3442.0, 11970.0)), (89, (3376.0, 11787.0)), (90, (3734.0, 12188.0)), (91, (3778.0, 12242.0)), (92, (4145.0, 8271.0)), (93, (3271.0, 11715.0)), (94, (3411.0, 11731.0)), (95, (2942.0, 9850.0)), (96, (3146.0, 10044.0)), (97, (4076.0, 11188.0)), (98, (3837.0, 7560.0)), (99, (3667.0, 12165.0)), (100, (3884.0, 9761.0)), (101, (3853.0, 10600.0)), (102, (4494.0, 12303.0)), (103, (4495.0, 9310.0)), (104, (3862.0, 9019.0)), (105, (3977.0, 9484.0)), (106, (4210.0, 8648.0)), (107, (4442.0, 7202.0)), (108, (4557.0, 9417.0)), (109, (2989.0, 8132.0)), (110, (4343.0, 8394.0)), (111, (3859.0, 12149.0)), (112, (4361.0, 7297.0)), (113, (3340.0, 10453.0)), (114, (3594.0, 7780.0)), (115, (4159.0, 10923.0)), (116, (4227.0, 8910.0)), (117, (4316.0, 7761.0)), (118, (4402.0, 9246.0)), (119, (3727.0, 7994.0)), (120, (3754.0, 7745.0)), (121, (3983.0, 8489.0)), (122, (3877.0, 11209.0)), (123, (4564.0, 8942.0)), (124, (3952.0, 11981.0)), (125, (5042.0, 10465.0)), (126, (4018.0, 12224.0)), (127, (4033.0, 7593.0)), (128, (4116.0, 8124.0))]\n",
      "初始状态：\n",
      "151.5\n"
     ]
    },
    {
     "data": {
      "image/png": "[encoded data removed]",
      "text/plain": [
       "<Figure size 432x288 with 2 Axes>"
      ]
     },
     "metadata": {
      "needs_background": "light"
     },
     "output_type": "display_data"
    },
    {
     "name": "stdout",
     "output_type": "stream",
     "text": [
      "计算次数：3\n",
      "tabu长度：17\n",
      "循环次数：0计算次数：3\n",
      "循环次数：0tabu长度：17\n",
      "循环次数：50计算次数：2\n",
      "循环次数：50tabu长度：12\n",
      "循环次数：100计算次数：1\n",
      "循环次数：100tabu长度：10\n",
      "循环次数：150计算次数：2\n",
      "循环次数：150tabu长度：14\n",
      "循环次数：200计算次数：1\n",
      "循环次数：200tabu长度：11\n",
      "循环次数：250计算次数：2\n",
      "循环次数：250tabu长度：16\n",
      "循环次数：300计算次数：2\n",
      "循环次数：300tabu长度：13\n",
      "循环次数：350计算次数：1\n",
      "循环次数：350tabu长度：11\n",
      "循环次数：400计算次数：2\n",
      "循环次数：400tabu长度：15\n",
      "循环次数：450计算次数：2\n",
      "循环次数：450tabu长度：13\n",
      "循环次数：500计算次数：2\n",
      "循环次数：500tabu长度：13\n",
      "循环次数：550计算次数：1\n",
      "循环次数：550tabu长度：11\n",
      "循环次数：600计算次数：2\n",
      "循环次数：600tabu长度：14\n",
      "循环次数：650计算次数：1\n",
      "循环次数：650tabu长度：10\n",
      "循环次数：700计算次数：2\n",
      "循环次数：700tabu长度：14\n",
      "循环次数：750计算次数：2\n",
      "循环次数：750tabu长度：12\n",
      "循环次数：800计算次数：2\n",
      "循环次数：800tabu长度：12\n",
      "循环次数：850计算次数：1\n",
      "循环次数：850tabu长度：11\n",
      "循环次数：900计算次数：2\n",
      "循环次数：900tabu长度：15\n",
      "循环次数：950计算次数：2\n",
      "循环次数：950tabu长度：12\n",
      "[[1, 1, 0], [2, 1, 0], [3, 1, 0], [4, 4, 0], [5, 1, 0], [6, 2, 0], [7, 3, 0], [8, 3, 0], [9, 2, 0], [10, 4, 0], [11, 4, 0], [12, 4, 0], [13, 2, 0], [14, 4, 0], [15, 2, 0], [16, 2, 0], [17, 2, 0], [18, 3, 0], [19, 4, 0], [20, 1, 0], [21, 3, 1], [22, 1, 0], [23, 4, 0], [24, 4, 1], [25, 2, 0], [26, 3, 0], [27, 1, 0], [28, 1, 1], [29, 3, 0], [30, 2, 0], [31, 1, 0], [32, 4, 0], [33, 1, 0], [34, 2, 0], [35, 2, 0], [36, 3, 0], [37, 4, 0], [38, 4, 0], [39, 1, 0], [40, 3, 0], [41, 3, 0], [42, 3, 0], [43, 4, 0], [44, 3, 0], [45, 2, 0], [46, 4, 0], [47, 1, 0], [48, 2, 1], [49, 3, 0], [50, 4, 0], [51, 1, 0], [52, 4, 0], [53, 2, 1], [54, 4, 0], [55, 1, 0], [56, 4, 1], [57, 1, 0], [58, 3, 0], [59, 1, 1], [60, 4, 0], [61, 3, 1], [62, 3, 0], [63, 2, 0], [64, 4, 0], [65, 3, 0], [66, 2, 0], [67, 1, 0], [68, 4, 0], [69, 3, 0], [70, 2, 0], [71, 4, 0], [72, 1, 0], [73, 2, 0], [74, 3, 0], [75, 3, 0], [76, 1, 0], [77, 3, 0], [78, 1, 0], [79, 4, 0], [80, 1, 1], [81, 3, 0], [82, 3, 0], [83, 2, 0], [84, 2, 0], [85, 2, 1], [86, 2, 0], [87, 3, 0], [88, 3, 0], [89, 2, 0], [90, 3, 1], [91, 3, 0], [92, 4, 0], [93, 2, 0], [94, 2, 0], [95, 1, 0], [96, 4, 0], [97, 4, 0], [98, 1, 0], [99, 4, 1], [100, 3, 0], [101, 3, 0], [102, 4, 0], [103, 1, 0], [104, 4, 0], [105, 4, 0], [106, 1, 0], [107, 4, 0], [108, 1, 0], [109, 1, 0], [110, 2, 0], [111, 1, 0], [112, 1, 0], [113, 4, 0], [114, 2, 0], [115, 4, 0], [116, 2, 0], [117, 1, 0], [118, 3, 0], [119, 1, 0], [120, 2, 0], [121, 2, 0], [122, 4, 0], [123, 4, 0], [124, 2, 0], [125, 2, 0], [126, 2, 0], [127, 1, 0], [128, 2, 0]]\n",
      "67.5\n"
     ]
    },
    {
     "data": {
      "image/png": "[encoded data removed]",
      "text/plain": [
       "<Figure size 432x288 with 2 Axes>"
      ]
     },
     "metadata": {
      "needs_background": "light"
     },
     "output_type": "display_data"
    }
   ],
   "source": [
    "prepare_data(1)\n",
    "test1_name1 = \"1000_10_10_128_random\"\n",
    "test1_name2 = \"1000_10_10_128_result\"\n",
    "a,b,c,d = tabusearch(iteration_times=1000,cacu_time=10,tabu_length=10,origin_times=1,costf=costroad,printf=print,namefortest=test1_name1)\n",
    "# plt.plot(result_record)\n",
    "# plt.show()\n",
    "cc = costroad(a)\n",
    "print(cc)\n",
    "nameprefix = str(test1_name2) + str(cc)\n",
    "plot(layout=a,name=nameprefix)\n",
    "# plt.plot(result_record)\n",
    "# plt.show()"
   ]
  },
  {
   "cell_type": "code",
   "execution_count": 50,
   "metadata": {},
   "outputs": [
    {
     "name": "stdout",
     "output_type": "stream",
     "text": [
      "[[1, 1, 0], [2, 1, 0], [3, 1, 0], [4, 3, 0], [5, 3, 0], [6, 2, 0], [7, 3, 0], [8, 3, 0], [9, 4, 0], [10, 1, 0], [11, 2, 0], [12, 2, 0], [13, 3, 0], [14, 1, 0], [15, 2, 0], [16, 2, 0], [17, 3, 0], [18, 2, 0], [19, 4, 0], [20, 4, 0], [21, 4, 0], [22, 2, 0], [23, 4, 0], [24, 2, 0], [25, 3, 0], [26, 2, 0], [27, 1, 0], [28, 1, 0], [29, 3, 0], [30, 4, 0], [31, 3, 0], [32, 1, 0], [33, 1, 0], [34, 2, 0], [35, 2, 0], [36, 1, 0], [37, 3, 0], [38, 4, 0], [39, 4, 0], [40, 3, 0], [41, 3, 0], [42, 2, 0], [43, 2, 0], [44, 3, 0], [45, 4, 0], [46, 2, 0], [47, 3, 0], [48, 1, 0], [49, 4, 0], [50, 4, 0], [51, 1, 0], [52, 1, 0], [53, 4, 0], [54, 1, 0], [55, 3, 0], [56, 1, 0], [57, 2, 0], [58, 4, 0], [59, 2, 0], [60, 4, 0], [61, 4, 0], [62, 1, 0], [63, 2, 0], [64, 1, 0], [65, 3, 0], [66, 4, 0], [67, 3, 0], [68, 3, 0], [69, 2, 0], [70, 3, 0], [71, 2, 0], [72, 1, 0], [73, 2, 0], [74, 4, 0], [75, 4, 0], [76, 3, 0], [77, 2, 0], [78, 3, 0], [79, 2, 0], [80, 2, 0], [81, 1, 0], [82, 3, 0], [83, 2, 0], [84, 3, 0], [85, 3, 0], [86, 4, 0], [87, 4, 0], [88, 1, 0], [89, 4, 0], [90, 4, 0], [91, 3, 0], [92, 2, 0], [93, 1, 0], [94, 1, 0], [95, 3, 0], [96, 4, 0], [97, 3, 0], [98, 1, 0], [99, 3, 0], [100, 1, 0], [101, 3, 0], [102, 3, 0], [103, 1, 0], [104, 2, 0], [105, 4, 0], [106, 1, 0], [107, 4, 0], [108, 4, 0], [109, 3, 0], [110, 4, 0], [111, 1, 0], [112, 2, 0], [113, 3, 0], [114, 3, 0], [115, 1, 0], [116, 4, 0], [117, 4, 0], [118, 4, 0], [119, 2, 0], [120, 2, 0], [121, 1, 0], [122, 4, 0], [123, 1, 0], [124, 4, 0], [125, 4, 0], [126, 4, 0], [127, 1, 0], [128, 4, 0]]\n",
      "[(1, (4110.0, 8065.0)), (2, (4288.0, 9739.0)), (3, (4660.0, 12051.0)), (4, (4227.0, 7180.0)), (5, (4363.0, 8977.0)), (6, (3610.0, 8025.0)), (7, (4988.0, 9715.0)), (8, (3919.0, 7816.0)), (9, (3424.0, 7792.0)), (10, (3975.0, 7555.0)), (11, (4815.0, 10362.0)), (12, (4125.0, 7700.0)), (13, (3768.0, 8228.0)), (14, (3390.0, 9849.0)), (15, (3769.0, 9734.0)), (16, (4007.0, 8072.0)), (17, (2672.0, 8005.0)), (18, (4742.0, 12032.0)), (19, (4142.0, 12239.0)), (20, (3122.0, 8235.0)), (21, (4496.0, 8964.0)), (22, (4236.0, 8783.0)), (23, (4490.0, 9711.0)), (24, (4398.0, 7592.0)), (25, (4250.0, 9234.0)), (26, (4155.0, 7305.0)), (27, (3889.0, 7703.0)), (28, (4185.0, 7914.0)), (29, (4607.0, 11833.0)), (30, (3155.0, 9714.0)), (31, (3868.0, 8753.0)), (32, (2881.0, 9701.0)), (33, (3235.0, 9088.0)), (34, (4927.0, 12312.0)), (35, (4692.0, 9801.0)), (36, (3083.0, 8328.0)), (37, (4311.0, 7523.0)), (38, (3990.0, 7973.0)), (39, (3235.0, 9530.0)), (40, (4256.0, 11447.0)), (41, (3321.0, 8757.0)), (42, (3426.0, 8871.0)), (43, (3616.0, 9591.0)), (44, (3222.0, 11097.0)), (45, (3717.0, 10451.0)), (46, (4023.0, 7477.0)), (47, (4476.0, 8563.0)), (48, (4365.0, 7938.0)), (49, (3905.0, 9567.0)), (50, (4165.0, 8354.0)), (51, (3343.0, 9405.0)), (52, (3947.0, 8741.0)), (53, (2795.0, 8245.0)), (54, (3045.0, 8428.0)), (55, (4724.0, 12243.0)), (56, (4305.0, 7615.0)), (57, (3260.0, 8234.0)), (58, (3392.0, 8035.0)), (59, (4099.0, 7519.0)), (60, (3796.0, 12129.0)), (61, (4452.0, 8957.0)), (62, (4036.0, 8062.0)), (63, (4062.0, 10322.0)), (64, (3815.0, 7907.0)), (65, (3992.0, 8381.0)), (66, (3722.0, 9329.0)), (67, (4210.0, 7259.0)), (68, (3980.0, 8965.0)), (69, (4767.0, 11741.0)), (70, (4168.0, 8625.0)), (71, (4354.0, 9673.0)), (72, (4249.0, 9639.0)), (73, (3251.0, 9375.0)), (74, (3364.0, 9661.0)), (75, (4480.0, 10696.0)), (76, (3523.0, 9668.0)), (77, (3242.0, 8702.0)), (78, (3871.0, 9323.0)), (79, (4760.0, 12233.0)), (80, (4141.0, 7567.0)), (81, (4187.0, 10366.0)), (82, (4282.0, 7395.0)), (83, (3208.0, 8109.0)), (84, (4649.0, 8435.0)), (85, (2734.0, 8253.0)), (86, (3844.0, 12272.0)), (87, (3568.0, 10595.0)), (88, (3442.0, 11970.0)), (89, (3376.0, 11787.0)), (90, (3734.0, 12188.0)), (91, (3778.0, 12242.0)), (92, (4145.0, 8271.0)), (93, (3271.0, 11715.0)), (94, (3411.0, 11731.0)), (95, (2942.0, 9850.0)), (96, (3146.0, 10044.0)), (97, (4076.0, 11188.0)), (98, (3837.0, 7560.0)), (99, (3667.0, 12165.0)), (100, (3884.0, 9761.0)), (101, (3853.0, 10600.0)), (102, (4494.0, 12303.0)), (103, (4495.0, 9310.0)), (104, (3862.0, 9019.0)), (105, (3977.0, 9484.0)), (106, (4210.0, 8648.0)), (107, (4442.0, 7202.0)), (108, (4557.0, 9417.0)), (109, (2989.0, 8132.0)), (110, (4343.0, 8394.0)), (111, (3859.0, 12149.0)), (112, (4361.0, 7297.0)), (113, (3340.0, 10453.0)), (114, (3594.0, 7780.0)), (115, (4159.0, 10923.0)), (116, (4227.0, 8910.0)), (117, (4316.0, 7761.0)), (118, (4402.0, 9246.0)), (119, (3727.0, 7994.0)), (120, (3754.0, 7745.0)), (121, (3983.0, 8489.0)), (122, (3877.0, 11209.0)), (123, (4564.0, 8942.0)), (124, (3952.0, 11981.0)), (125, (5042.0, 10465.0)), (126, (4018.0, 12224.0)), (127, (4033.0, 7593.0)), (128, (4116.0, 8124.0))]\n",
      "初始状态：\n",
      "170.8\n"
     ]
    },
    {
     "data": {
      "image/png": "[encoded data removed]",
      "text/plain": [
       "<Figure size 432x288 with 2 Axes>"
      ]
     },
     "metadata": {
      "needs_background": "light"
     },
     "output_type": "display_data"
    },
    {
     "name": "stdout",
     "output_type": "stream",
     "text": [
      "计算次数：3\n",
      "tabu长度：18\n",
      "循环次数：0计算次数：3\n",
      "循环次数：0tabu长度：18\n",
      "循环次数：50计算次数：1\n",
      "循环次数：50tabu长度：11\n",
      "循环次数：100计算次数：2\n",
      "循环次数：100tabu长度：15\n",
      "循环次数：150计算次数：1\n",
      "循环次数：150tabu长度：11\n",
      "循环次数：200计算次数：3\n",
      "循环次数：200tabu长度：17\n",
      "循环次数：250计算次数：2\n",
      "循环次数：250tabu长度：12\n",
      "循环次数：300计算次数：2\n",
      "循环次数：300tabu长度：12\n",
      "循环次数：350计算次数：1\n",
      "循环次数：350tabu长度：9\n",
      "循环次数：400计算次数：2\n",
      "循环次数：400tabu长度：13\n",
      "循环次数：450计算次数：1\n",
      "循环次数：450tabu长度：11\n",
      "[[1, 4, 1], [2, 4, 0], [3, 1, 1], [4, 2, 0], [5, 1, 0], [6, 3, 0], [7, 4, 0], [8, 3, 0], [9, 2, 0], [10, 3, 0], [11, 1, 0], [12, 3, 0], [13, 4, 0], [14, 3, 0], [15, 2, 0], [16, 2, 0], [17, 3, 0], [18, 2, 1], [19, 4, 0], [20, 1, 0], [21, 4, 1], [22, 3, 0], [23, 4, 0], [24, 3, 1], [25, 4, 0], [26, 3, 0], [27, 1, 0], [28, 1, 0], [29, 1, 0], [30, 3, 0], [31, 1, 0], [32, 2, 0], [33, 4, 0], [34, 3, 0], [35, 3, 0], [36, 3, 0], [37, 3, 0], [38, 4, 0], [39, 3, 0], [40, 3, 0], [41, 1, 0], [42, 4, 0], [43, 1, 0], [44, 4, 0], [45, 2, 0], [46, 3, 0], [47, 3, 0], [48, 4, 0], [49, 1, 0], [50, 2, 0], [51, 1, 0], [52, 4, 0], [53, 3, 0], [54, 3, 0], [55, 1, 0], [56, 4, 1], [57, 3, 0], [58, 4, 0], [59, 2, 0], [60, 3, 0], [61, 3, 0], [62, 4, 1], [63, 2, 0], [64, 1, 0], [65, 3, 0], [66, 3, 0], [67, 1, 0], [68, 1, 0], [69, 4, 0], [70, 3, 0], [71, 4, 0], [72, 3, 0], [73, 4, 0], [74, 3, 0], [75, 3, 0], [76, 3, 0], [77, 4, 0], [78, 4, 0], [79, 4, 0], [80, 1, 0], [81, 3, 0], [82, 3, 0], [83, 4, 0], [84, 3, 0], [85, 2, 0], [86, 2, 0], [87, 2, 0], [88, 4, 0], [89, 3, 0], [90, 4, 0], [91, 4, 0], [92, 4, 0], [93, 4, 0], [94, 1, 0], [95, 1, 0], [96, 2, 0], [97, 2, 1], [98, 2, 0], [99, 3, 0], [100, 4, 0], [101, 2, 0], [102, 3, 0], [103, 1, 0], [104, 3, 0], [105, 3, 0], [106, 2, 0], [107, 4, 0], [108, 4, 0], [109, 1, 0], [110, 3, 0], [111, 4, 0], [112, 4, 0], [113, 4, 0], [114, 3, 0], [115, 4, 0], [116, 2, 0], [117, 1, 0], [118, 4, 0], [119, 3, 0], [120, 4, 0], [121, 3, 0], [122, 1, 1], [123, 1, 1], [124, 3, 0], [125, 4, 0], [126, 1, 0], [127, 1, 0], [128, 3, 0]]\n",
      "62.8\n"
     ]
    },
    {
     "data": {
      "image/png": "[encoded data removed]",
      "text/plain": [
       "<Figure size 432x288 with 2 Axes>"
      ]
     },
     "metadata": {
      "needs_background": "light"
     },
     "output_type": "display_data"
    }
   ],
   "source": [
    "prepare_data(1)\n",
    "test1_name1 = \"500_10_10_128_random\"\n",
    "test1_name2 = \"500_10_10_128_result\"\n",
    "a,b,c,d = tabusearch(iteration_times=500,cacu_time=10,tabu_length=10,origin_times=1,costf=costroad,printf=print,namefortest=test1_name1)\n",
    "# plt.plot(result_record)\n",
    "# plt.show()\n",
    "cc = costroad(a)\n",
    "print(cc)\n",
    "nameprefix = str(test1_name2) + str(cc)\n",
    "plot(layout=a,name=nameprefix)\n",
    "# plt.plot(result_record)\n",
    "# plt.show()"
   ]
  },
  {
   "cell_type": "code",
   "execution_count": null,
   "metadata": {},
   "outputs": [],
   "source": []
  },
  {
   "cell_type": "code",
   "execution_count": null,
   "metadata": {},
   "outputs": [],
   "source": []
  },
  {
   "cell_type": "code",
   "execution_count": null,
   "metadata": {},
   "outputs": [],
   "source": []
  },
  {
   "cell_type": "code",
   "execution_count": null,
   "metadata": {},
   "outputs": [],
   "source": []
  },
  {
   "cell_type": "code",
   "execution_count": null,
   "metadata": {},
   "outputs": [],
   "source": []
  }
 ],
 "metadata": {
  "interpreter": {
   "hash": "f2eaed25645717b3c0327a6b49ee89aa6de2d935938af09fb76ad62ac3c040a5"
  },
  "kernelspec": {
   "display_name": "Python 3.10.2 ('tabu')",
   "language": "python",
   "name": "python3"
  },
  "language_info": {
   "codemirror_mode": {
    "name": "ipython",
    "version": 3
   },
   "file_extension": ".py",
   "mimetype": "text/x-python",
   "name": "python",
   "nbconvert_exporter": "python",
   "pygments_lexer": "ipython3",
   "version": "3.10.2"
  },
  "orig_nbformat": 4
 },
 "nbformat": 4,
 "nbformat_minor": 2
}
